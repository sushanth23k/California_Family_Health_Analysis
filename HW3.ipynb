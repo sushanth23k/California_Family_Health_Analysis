{
  "cells": [
    {
      "cell_type": "code",
      "source": [
        "import pandas as pd\n",
        "import matplotlib \n",
        "import matplotlib.pyplot as plt\n",
        "import numpy as np\n",
        "from sklearn.preprocessing import StandardScaler"
      ],
      "outputs": [],
      "execution_count": 10,
      "metadata": {
        "jupyter": {
          "source_hidden": false,
          "outputs_hidden": false
        },
        "nteract": {
          "transient": {
            "deleting": false
          }
        },
        "gather": {
          "logged": 1709345558883
        }
      }
    },
    {
      "cell_type": "markdown",
      "source": [
        "## Loading the data"
      ],
      "metadata": {
        "nteract": {
          "transient": {
            "deleting": false
          }
        }
      }
    },
    {
      "cell_type": "code",
      "source": [
        "url  = \"https://drive.google.com/file/d/1QjsfaDHJE0t4gEkOZgCzus92lKq6-tDG/view?usp=sharing\"\n",
        "url='https://drive.google.com/uc?id=' + url.split('/')[-2]\n",
        "df = pd.read_csv(url)"
      ],
      "outputs": [],
      "execution_count": 12,
      "metadata": {
        "jupyter": {
          "source_hidden": false,
          "outputs_hidden": false
        },
        "nteract": {
          "transient": {
            "deleting": false
          }
        },
        "gather": {
          "logged": 1709345640385
        }
      }
    },
    {
      "cell_type": "markdown",
      "source": [
        "## Analyzing the data set"
      ],
      "metadata": {
        "nteract": {
          "transient": {
            "deleting": false
          }
        }
      }
    },
    {
      "cell_type": "code",
      "source": [
        "print(\"Rows,Columns:\"+str(df.shape[0])+\",\"+str(df.shape[1]))"
      ],
      "outputs": [
        {
          "output_type": "stream",
          "name": "stdout",
          "text": "Rows,Columns:58,54\n"
        }
      ],
      "execution_count": 13,
      "metadata": {
        "jupyter": {
          "source_hidden": false,
          "outputs_hidden": false
        },
        "nteract": {
          "transient": {
            "deleting": false
          }
        },
        "gather": {
          "logged": 1709345640511
        }
      }
    },
    {
      "cell_type": "code",
      "source": [
        "df.info()"
      ],
      "outputs": [
        {
          "output_type": "stream",
          "name": "stdout",
          "text": "<class 'pandas.core.frame.DataFrame'>\nRangeIndex: 58 entries, 0 to 57\nData columns (total 54 columns):\n #   Column                                                                       Non-Null Count  Dtype  \n---  ------                                                                       --------------  -----  \n 0   CountyID                                                                     58 non-null     int64  \n 1   County                                                                       58 non-null     object \n 2   CountyFullName                                                               58 non-null     object \n 3   State                                                                        58 non-null     object \n 4   DiabetesPercentage                                                           58 non-null     float64\n 5   DiabetesLowerLimit                                                           58 non-null     float64\n 6   DiabetesUpperLimit                                                           58 non-null     float64\n 7   Air Quality Value                                                            58 non-null     float64\n 8   Smoking%                                                                     58 non-null     float64\n 9   RANK ORDER                                                                   58 non-null     int64  \n 10  2019 POPULATION                                                              58 non-null     int64  \n 11  2018-2020  DEATHS (TOTAL)                                                    55 non-null     float64\n 12  2018-2020  DEATHS (AVERAGE)                                                  58 non-null     float64\n 13  CRUDE DEATH RATE                                                             58 non-null     object \n 14  AGE-ADJUSTED DEATH RATE                                                      58 non-null     object \n 15  95% CONFIDENCE LIMIT (LOWER)                                                 58 non-null     float64\n 16  95% CONFIDENCE LIMIT (UPPER)                                                 58 non-null     float64\n 17  HealthCostPerCapita$                                                         58 non-null     float64\n 18  Cancer_Rate_per_100K                                                         54 non-null     float64\n 19  Cancer_Total                                                                 50 non-null     float64\n 20  SNF_Enrollment_ID_Count                                                      58 non-null     int64  \n 21  Hospital_Enrollment_Count                                                    58 non-null     int64  \n 22  Medicare_CA_Count                                                            43 non-null     float64\n 23  Population Estimates, July 1 2021, (V2021)                                   53 non-null     float64\n 24  Persons under 5 years, percent                                               52 non-null     float64\n 25  Persons under 18 years, percent                                              52 non-null     float64\n 26  Persons 65 years and over, percent                                           52 non-null     float64\n 27  Female persons, percent                                                      52 non-null     float64\n 28  White alone, percent                                                         52 non-null     float64\n 29  Black or African American alone, percent                                     52 non-null     float64\n 30  American Indian and Alaska Native alone, percent                             52 non-null     float64\n 31  Asian alone, percent                                                         52 non-null     float64\n 32  Native Hawaiian and Other Pacific Islander alone, percent                    52 non-null     float64\n 33  Two or More Races, percent                                                   52 non-null     float64\n 34  Hispanic or Latino, percent                                                  52 non-null     float64\n 35  Persons per household, 2017-2021                                             52 non-null     float64\n 36  High school graduate or higher, percent of persons age 25 years+, 2017-2021  52 non-null     float64\n 37  Bachelor's degree or higher, percent of persons age 25 years+, 2017-2021     52 non-null     float64\n 38  Persons  without health insurance, under age 65 years, percent               52 non-null     float64\n 39  Total health care and social assistance receipts/revenue, 2017 ($1,000)      50 non-null     float64\n 40  Median household income (in 2021 dollars), 2017-2021                         52 non-null     float64\n 41  Persons in poverty, percent                                                  52 non-null     float64\n 42  Population-Male                                                              42 non-null     float64\n 43  Population-Female                                                            42 non-null     float64\n 44  Population-Senior                                                            42 non-null     float64\n 45  Households-Total                                                             42 non-null     float64\n 46  Households-Median income (dollars)                                           42 non-null     float64\n 47  Households-Mean income (dollars)                                             42 non-null     float64\n 48  Families-Total                                                               42 non-null     float64\n 49  Families-Median income (dollars)                                             42 non-null     float64\n 50  Families-Mean income (dollars)                                               42 non-null     float64\n 51  latitude                                                                     58 non-null     float64\n 52  longitude                                                                    58 non-null     float64\n 53  Total Enrollments                                                            58 non-null     int64  \ndtypes: float64(43), int64(6), object(5)\nmemory usage: 24.6+ KB\n"
        }
      ],
      "execution_count": 14,
      "metadata": {
        "jupyter": {
          "source_hidden": false,
          "outputs_hidden": false
        },
        "nteract": {
          "transient": {
            "deleting": false
          }
        },
        "gather": {
          "logged": 1709345640692
        }
      }
    },
    {
      "cell_type": "code",
      "source": [
        "df.head().iloc[0,0:-1]"
      ],
      "outputs": [
        {
          "output_type": "execute_result",
          "execution_count": 15,
          "data": {
            "text/plain": "CountyID                                                                                 6001\nCounty                                                                                Alameda\nCountyFullName                                                                 Alameda County\nState                                                                                      CA\nDiabetesPercentage                                                                        7.4\nDiabetesLowerLimit                                                                        5.7\nDiabetesUpperLimit                                                                        9.5\nAir Quality Value                                                                       166.9\nSmoking%                                                                                166.9\nRANK ORDER                                                                                  9\n2019 POPULATION                                                                       1668965\n2018-2020  DEATHS (TOTAL)                                                                 470\n2018-2020  DEATHS (AVERAGE)                                                             156.7\nCRUDE DEATH RATE                                                                          9.4\nAGE-ADJUSTED DEATH RATE                                                                   8.8\n95% CONFIDENCE LIMIT (LOWER)                                                                8\n95% CONFIDENCE LIMIT (UPPER)                                                              9.7\nHealthCostPerCapita$                                                                    166.9\nCancer_Rate_per_100K                                                                     41.2\nCancer_Total                                                                              670\nSNF_Enrollment_ID_Count                                                                   990\nHospital_Enrollment_Count                                                                  21\nMedicare_CA_Count                                                                         277\nPopulation Estimates, July 1 2021, (V2021)                                        1.64856e+06\nPersons under 5 years, percent                                                          0.053\nPersons under 18 years, percent                                                         0.201\nPersons 65 years and over, percent                                                      0.149\nFemale persons, percent                                                                 0.504\nWhite alone, percent                                                                    0.478\nBlack or African American alone, percent                                                0.107\nAmerican Indian and Alaska Native alone, percent                                        0.011\nAsian alone, percent                                                                    0.338\nNative Hawaiian and Other Pacific Islander alone, percent                                0.01\nTwo or More Races, percent                                                              0.056\nHispanic or Latino, percent                                                             0.224\nPersons per household, 2017-2021                                                         2.82\nHigh school graduate or higher, percent of persons age 25 years+, 2017-2021              0.89\nBachelor's degree or higher, percent of persons age 25 years+, 2017-2021                0.496\nPersons  without health insurance, under age 65 years, percent                          0.049\nTotal health care and social assistance receipts/revenue, 2017 ($1,000)            1.6159e+07\nMedian household income (in 2021 dollars), 2017-2021                                   112017\nPersons in poverty, percent                                                             0.094\nPopulation-Male                                                                        816792\nPopulation-Female                                                                      831764\nPopulation-Senior                                                                      246050\nHouseholds-Total                                                                       589180\nHouseholds-Median income (dollars)                                                     109729\nHouseholds-Mean income (dollars)                                                       149973\nFamilies-Total                                                                         383755\nFamilies-Median income (dollars)                                                       136940\nFamilies-Mean income (dollars)                                                         175733\nlatitude                                                                               37.745\nlongitude                                                                            -122.155\nName: 0, dtype: object"
          },
          "metadata": {}
        }
      ],
      "execution_count": 15,
      "metadata": {
        "jupyter": {
          "source_hidden": false,
          "outputs_hidden": false
        },
        "nteract": {
          "transient": {
            "deleting": false
          }
        },
        "gather": {
          "logged": 1709345640984
        }
      }
    },
    {
      "cell_type": "code",
      "source": [
        "df.describe().iloc[:,0:20]"
      ],
      "outputs": [
        {
          "output_type": "execute_result",
          "execution_count": 16,
          "data": {
            "text/plain": "          CountyID  DiabetesPercentage  DiabetesLowerLimit  \\\ncount    58.000000           58.000000           58.000000   \nmean   6057.982759            7.924138            5.308621   \nstd      33.802570            1.130333            1.269243   \nmin    6001.000000            5.700000            3.200000   \n25%    6029.500000            7.100000            4.225000   \n50%    6058.000000            7.500000            4.700000   \n75%    6086.500000            8.775000            6.275000   \nmax    6115.000000           10.600000            8.400000   \n\n       DiabetesUpperLimit  Air Quality Value    Smoking%  RANK ORDER  \\\ncount           58.000000          58.000000   58.000000   58.000000   \nmean            11.186207         204.789655  204.789655   29.500000   \nstd              1.292414          35.031804   35.031804   16.886879   \nmin              8.500000         122.500000  122.500000    1.000000   \n25%             10.350000         177.025000  177.025000   15.250000   \n50%             11.100000         209.600000  209.600000   29.500000   \n75%             11.950000         227.675000  227.675000   43.750000   \nmax             14.300000         272.400000  272.400000   58.000000   \n\n       2019 POPULATION  2018-2020  DEATHS (TOTAL)  \\\ncount     5.800000e+01                  55.000000   \nmean      6.855378e+05                 147.818182   \nstd       1.487618e+06                 186.886090   \nmin       1.123000e+03                   1.000000   \n25%       4.644150e+04                  30.500000   \n50%       1.888900e+05                  67.000000   \n75%       7.145042e+05                 187.500000   \nmax       1.021097e+07                 891.000000   \n\n       2018-2020  DEATHS (AVERAGE)  95% CONFIDENCE LIMIT (LOWER)  \\\ncount                    58.000000                     58.000000   \nmean                     75.153448                     10.593103   \nstd                     138.525297                      4.524548   \nmin                       0.300000                      1.500000   \n25%                      10.400000                      7.600000   \n50%                      27.350000                     10.050000   \n75%                      75.075000                     13.375000   \nmax                     884.300000                     23.200000   \n\n       95% CONFIDENCE LIMIT (UPPER)  HealthCostPerCapita$  \\\ncount                     58.000000             58.000000   \nmean                      27.574138            204.789655   \nstd                       42.457271             35.031804   \nmin                        8.100000            122.500000   \n25%                       12.200000            177.025000   \n50%                       16.100000            209.600000   \n75%                       30.000000            227.675000   \nmax                      324.700000            272.400000   \n\n       Cancer_Rate_per_100K  Cancer_Total  SNF_Enrollment_ID_Count  \\\ncount             54.000000     50.000000                58.000000   \nmean              48.185185    187.580000               413.103448   \nstd               10.909757    211.004119              1467.445252   \nmin               29.300000     12.000000                 0.000000   \n25%               41.575000     43.250000                15.000000   \n50%               47.050000     99.500000                49.000000   \n75%               51.700000    239.250000               119.500000   \nmax               78.200000    834.000000             10818.000000   \n\n       Hospital_Enrollment_Count  Medicare_CA_Count  \\\ncount                  58.000000          43.000000   \nmean                   10.068966         187.465116   \nstd                    23.575829         370.002403   \nmin                     0.000000           1.000000   \n25%                     1.000000          19.500000   \n50%                     3.000000          66.000000   \n75%                     9.000000         157.500000   \nmax                   168.000000        2199.000000   \n\n       Population Estimates, July 1 2021, (V2021)  \\\ncount                                5.300000e+01   \nmean                                 7.376696e+05   \nstd                                  1.494864e+06   \nmin                                  1.235000e+03   \n25%                                  6.876600e+04   \n50%                                  2.169860e+05   \n75%                                  7.894100e+05   \nmax                                  9.829544e+06   \n\n       Persons under 5 years, percent  \ncount                       52.000000  \nmean                         0.054654  \nstd                          0.010161  \nmin                          0.039000  \n25%                          0.045000  \n50%                          0.053000  \n75%                          0.063250  \nmax                          0.074000  ",
            "text/html": "<div>\n<style scoped>\n    .dataframe tbody tr th:only-of-type {\n        vertical-align: middle;\n    }\n\n    .dataframe tbody tr th {\n        vertical-align: top;\n    }\n\n    .dataframe thead th {\n        text-align: right;\n    }\n</style>\n<table border=\"1\" class=\"dataframe\">\n  <thead>\n    <tr style=\"text-align: right;\">\n      <th></th>\n      <th>CountyID</th>\n      <th>DiabetesPercentage</th>\n      <th>DiabetesLowerLimit</th>\n      <th>DiabetesUpperLimit</th>\n      <th>Air Quality Value</th>\n      <th>Smoking%</th>\n      <th>RANK ORDER</th>\n      <th>2019 POPULATION</th>\n      <th>2018-2020  DEATHS (TOTAL)</th>\n      <th>2018-2020  DEATHS (AVERAGE)</th>\n      <th>95% CONFIDENCE LIMIT (LOWER)</th>\n      <th>95% CONFIDENCE LIMIT (UPPER)</th>\n      <th>HealthCostPerCapita$</th>\n      <th>Cancer_Rate_per_100K</th>\n      <th>Cancer_Total</th>\n      <th>SNF_Enrollment_ID_Count</th>\n      <th>Hospital_Enrollment_Count</th>\n      <th>Medicare_CA_Count</th>\n      <th>Population Estimates, July 1 2021, (V2021)</th>\n      <th>Persons under 5 years, percent</th>\n    </tr>\n  </thead>\n  <tbody>\n    <tr>\n      <th>count</th>\n      <td>58.000000</td>\n      <td>58.000000</td>\n      <td>58.000000</td>\n      <td>58.000000</td>\n      <td>58.000000</td>\n      <td>58.000000</td>\n      <td>58.000000</td>\n      <td>5.800000e+01</td>\n      <td>55.000000</td>\n      <td>58.000000</td>\n      <td>58.000000</td>\n      <td>58.000000</td>\n      <td>58.000000</td>\n      <td>54.000000</td>\n      <td>50.000000</td>\n      <td>58.000000</td>\n      <td>58.000000</td>\n      <td>43.000000</td>\n      <td>5.300000e+01</td>\n      <td>52.000000</td>\n    </tr>\n    <tr>\n      <th>mean</th>\n      <td>6057.982759</td>\n      <td>7.924138</td>\n      <td>5.308621</td>\n      <td>11.186207</td>\n      <td>204.789655</td>\n      <td>204.789655</td>\n      <td>29.500000</td>\n      <td>6.855378e+05</td>\n      <td>147.818182</td>\n      <td>75.153448</td>\n      <td>10.593103</td>\n      <td>27.574138</td>\n      <td>204.789655</td>\n      <td>48.185185</td>\n      <td>187.580000</td>\n      <td>413.103448</td>\n      <td>10.068966</td>\n      <td>187.465116</td>\n      <td>7.376696e+05</td>\n      <td>0.054654</td>\n    </tr>\n    <tr>\n      <th>std</th>\n      <td>33.802570</td>\n      <td>1.130333</td>\n      <td>1.269243</td>\n      <td>1.292414</td>\n      <td>35.031804</td>\n      <td>35.031804</td>\n      <td>16.886879</td>\n      <td>1.487618e+06</td>\n      <td>186.886090</td>\n      <td>138.525297</td>\n      <td>4.524548</td>\n      <td>42.457271</td>\n      <td>35.031804</td>\n      <td>10.909757</td>\n      <td>211.004119</td>\n      <td>1467.445252</td>\n      <td>23.575829</td>\n      <td>370.002403</td>\n      <td>1.494864e+06</td>\n      <td>0.010161</td>\n    </tr>\n    <tr>\n      <th>min</th>\n      <td>6001.000000</td>\n      <td>5.700000</td>\n      <td>3.200000</td>\n      <td>8.500000</td>\n      <td>122.500000</td>\n      <td>122.500000</td>\n      <td>1.000000</td>\n      <td>1.123000e+03</td>\n      <td>1.000000</td>\n      <td>0.300000</td>\n      <td>1.500000</td>\n      <td>8.100000</td>\n      <td>122.500000</td>\n      <td>29.300000</td>\n      <td>12.000000</td>\n      <td>0.000000</td>\n      <td>0.000000</td>\n      <td>1.000000</td>\n      <td>1.235000e+03</td>\n      <td>0.039000</td>\n    </tr>\n    <tr>\n      <th>25%</th>\n      <td>6029.500000</td>\n      <td>7.100000</td>\n      <td>4.225000</td>\n      <td>10.350000</td>\n      <td>177.025000</td>\n      <td>177.025000</td>\n      <td>15.250000</td>\n      <td>4.644150e+04</td>\n      <td>30.500000</td>\n      <td>10.400000</td>\n      <td>7.600000</td>\n      <td>12.200000</td>\n      <td>177.025000</td>\n      <td>41.575000</td>\n      <td>43.250000</td>\n      <td>15.000000</td>\n      <td>1.000000</td>\n      <td>19.500000</td>\n      <td>6.876600e+04</td>\n      <td>0.045000</td>\n    </tr>\n    <tr>\n      <th>50%</th>\n      <td>6058.000000</td>\n      <td>7.500000</td>\n      <td>4.700000</td>\n      <td>11.100000</td>\n      <td>209.600000</td>\n      <td>209.600000</td>\n      <td>29.500000</td>\n      <td>1.888900e+05</td>\n      <td>67.000000</td>\n      <td>27.350000</td>\n      <td>10.050000</td>\n      <td>16.100000</td>\n      <td>209.600000</td>\n      <td>47.050000</td>\n      <td>99.500000</td>\n      <td>49.000000</td>\n      <td>3.000000</td>\n      <td>66.000000</td>\n      <td>2.169860e+05</td>\n      <td>0.053000</td>\n    </tr>\n    <tr>\n      <th>75%</th>\n      <td>6086.500000</td>\n      <td>8.775000</td>\n      <td>6.275000</td>\n      <td>11.950000</td>\n      <td>227.675000</td>\n      <td>227.675000</td>\n      <td>43.750000</td>\n      <td>7.145042e+05</td>\n      <td>187.500000</td>\n      <td>75.075000</td>\n      <td>13.375000</td>\n      <td>30.000000</td>\n      <td>227.675000</td>\n      <td>51.700000</td>\n      <td>239.250000</td>\n      <td>119.500000</td>\n      <td>9.000000</td>\n      <td>157.500000</td>\n      <td>7.894100e+05</td>\n      <td>0.063250</td>\n    </tr>\n    <tr>\n      <th>max</th>\n      <td>6115.000000</td>\n      <td>10.600000</td>\n      <td>8.400000</td>\n      <td>14.300000</td>\n      <td>272.400000</td>\n      <td>272.400000</td>\n      <td>58.000000</td>\n      <td>1.021097e+07</td>\n      <td>891.000000</td>\n      <td>884.300000</td>\n      <td>23.200000</td>\n      <td>324.700000</td>\n      <td>272.400000</td>\n      <td>78.200000</td>\n      <td>834.000000</td>\n      <td>10818.000000</td>\n      <td>168.000000</td>\n      <td>2199.000000</td>\n      <td>9.829544e+06</td>\n      <td>0.074000</td>\n    </tr>\n  </tbody>\n</table>\n</div>"
          },
          "metadata": {}
        }
      ],
      "execution_count": 16,
      "metadata": {
        "jupyter": {
          "source_hidden": false,
          "outputs_hidden": false
        },
        "nteract": {
          "transient": {
            "deleting": false
          }
        },
        "gather": {
          "logged": 1709345641135
        }
      }
    },
    {
      "cell_type": "code",
      "source": [
        "df.describe().iloc[:,21:40]"
      ],
      "outputs": [
        {
          "output_type": "execute_result",
          "execution_count": 17,
          "data": {
            "text/plain": "       Persons 65 years and over, percent  Female persons, percent  \\\ncount                           52.000000                52.000000   \nmean                             0.186615                 0.495250   \nstd                              0.054816                 0.013984   \nmin                              0.107000                 0.447000   \n25%                              0.145000                 0.492000   \n50%                              0.172000                 0.498500   \n75%                              0.227250                 0.503000   \nmax                              0.304000                 0.514000   \n\n       White alone, percent  Black or African American alone, percent  \\\ncount             52.000000                                 52.000000   \nmean               0.790692                                  0.037615   \nstd                0.113623                                  0.031910   \nmin                0.478000                                  0.003000   \n25%                0.742250                                  0.015000   \n50%                0.828500                                  0.025000   \n75%                0.866750                                  0.050000   \nmax                0.928000                                  0.148000   \n\n       American Indian and Alaska Native alone, percent  Asian alone, percent  \\\ncount                                         52.000000             52.000000   \nmean                                           0.033154              0.090154   \nstd                                            0.037041              0.096592   \nmin                                            0.008000              0.009000   \n25%                                            0.014000              0.021000   \n50%                                            0.022500              0.053000   \n75%                                            0.032000              0.119250   \nmax                                            0.237000              0.406000   \n\n       Native Hawaiian and Other Pacific Islander alone, percent  \\\ncount                                          52.000000           \nmean                                            0.004462           \nstd                                             0.002845           \nmin                                             0.001000           \n25%                                             0.003000           \n50%                                             0.004000           \n75%                                             0.005250           \nmax                                             0.014000           \n\n       Two or More Races, percent  Hispanic or Latino, percent  \\\ncount                   52.000000                    52.000000   \nmean                     0.043923                     0.324308   \nstd                      0.011427                     0.184308   \nmin                      0.017000                     0.079000   \n25%                      0.037000                     0.156500   \n50%                      0.041500                     0.272500   \n75%                      0.050000                     0.476750   \nmax                      0.075000                     0.858000   \n\n       Persons per household, 2017-2021  \\\ncount                         52.000000   \nmean                           2.803654   \nstd                            0.342036   \nmin                            2.120000   \n25%                            2.525000   \n50%                            2.815000   \n75%                            3.015000   \nmax                            3.730000   \n\n       High school graduate or higher, percent of persons age 25 years+, 2017-2021  \\\ncount                                          52.000000                             \nmean                                            0.857673                             \nstd                                             0.068016                             \nmin                                             0.704000                             \n25%                                             0.809750                             \n50%                                             0.878500                             \n75%                                             0.909250                             \nmax                                             0.951000                             \n\n       Bachelor's degree or higher, percent of persons age 25 years+, 2017-2021  \\\ncount                                          52.000000                          \nmean                                            0.296596                          \nstd                                             0.123078                          \nmin                                             0.143000                          \n25%                                             0.195000                          \n50%                                             0.269000                          \n75%                                             0.375000                          \nmax                                             0.601000                          \n\n       Persons  without health insurance, under age 65 years, percent  \\\ncount                                          52.000000                \nmean                                            0.078673                \nstd                                             0.019896                \nmin                                             0.042000                \n25%                                             0.064000                \n50%                                             0.077500                \n75%                                             0.089000                \nmax                                             0.130000                \n\n       Total health care and social assistance receipts/revenue, 2017 ($1,000)  \\\ncount                                       5.000000e+01                         \nmean                                        6.197391e+06                         \nstd                                         1.308983e+07                         \nmin                                         1.952200e+04                         \n25%                                         4.636178e+05                         \n50%                                         1.941528e+06                         \n75%                                         4.906994e+06                         \nmax                                         8.437218e+07                         \n\n       Median household income (in 2021 dollars), 2017-2021  \\\ncount                                          52.000000      \nmean                                        77470.615385      \nstd                                         23759.266377      \nmin                                         42206.000000      \n25%                                         59603.250000      \n50%                                         72452.000000      \n75%                                         92242.750000      \nmax                                        140258.000000      \n\n       Persons in poverty, percent  Population-Male  Population-Female  \\\ncount                    52.000000     4.200000e+01       4.200000e+01   \nmean                      0.134250     4.621439e+05       4.626163e+05   \nstd                       0.039007     8.103300e+05       8.210987e+05   \nmin                       0.066000     3.315200e+04       3.234600e+04   \n25%                       0.104500     8.626750e+04       8.224075e+04   \n50%                       0.131500     2.127560e+05       2.120565e+05   \n75%                       0.162000     4.583742e+05       4.398265e+05   \nmax                       0.214000     4.870908e+06       4.958636e+06   \n\n       Population-Senior  \ncount       4.200000e+01  \nmean        1.397176e+05  \nstd         2.379173e+05  \nmin         8.774000e+03  \n25%         2.803400e+04  \n50%         6.247250e+04  \n75%         1.376090e+05  \nmax         1.436519e+06  ",
            "text/html": "<div>\n<style scoped>\n    .dataframe tbody tr th:only-of-type {\n        vertical-align: middle;\n    }\n\n    .dataframe tbody tr th {\n        vertical-align: top;\n    }\n\n    .dataframe thead th {\n        text-align: right;\n    }\n</style>\n<table border=\"1\" class=\"dataframe\">\n  <thead>\n    <tr style=\"text-align: right;\">\n      <th></th>\n      <th>Persons 65 years and over, percent</th>\n      <th>Female persons, percent</th>\n      <th>White alone, percent</th>\n      <th>Black or African American alone, percent</th>\n      <th>American Indian and Alaska Native alone, percent</th>\n      <th>Asian alone, percent</th>\n      <th>Native Hawaiian and Other Pacific Islander alone, percent</th>\n      <th>Two or More Races, percent</th>\n      <th>Hispanic or Latino, percent</th>\n      <th>Persons per household, 2017-2021</th>\n      <th>High school graduate or higher, percent of persons age 25 years+, 2017-2021</th>\n      <th>Bachelor's degree or higher, percent of persons age 25 years+, 2017-2021</th>\n      <th>Persons  without health insurance, under age 65 years, percent</th>\n      <th>Total health care and social assistance receipts/revenue, 2017 ($1,000)</th>\n      <th>Median household income (in 2021 dollars), 2017-2021</th>\n      <th>Persons in poverty, percent</th>\n      <th>Population-Male</th>\n      <th>Population-Female</th>\n      <th>Population-Senior</th>\n    </tr>\n  </thead>\n  <tbody>\n    <tr>\n      <th>count</th>\n      <td>52.000000</td>\n      <td>52.000000</td>\n      <td>52.000000</td>\n      <td>52.000000</td>\n      <td>52.000000</td>\n      <td>52.000000</td>\n      <td>52.000000</td>\n      <td>52.000000</td>\n      <td>52.000000</td>\n      <td>52.000000</td>\n      <td>52.000000</td>\n      <td>52.000000</td>\n      <td>52.000000</td>\n      <td>5.000000e+01</td>\n      <td>52.000000</td>\n      <td>52.000000</td>\n      <td>4.200000e+01</td>\n      <td>4.200000e+01</td>\n      <td>4.200000e+01</td>\n    </tr>\n    <tr>\n      <th>mean</th>\n      <td>0.186615</td>\n      <td>0.495250</td>\n      <td>0.790692</td>\n      <td>0.037615</td>\n      <td>0.033154</td>\n      <td>0.090154</td>\n      <td>0.004462</td>\n      <td>0.043923</td>\n      <td>0.324308</td>\n      <td>2.803654</td>\n      <td>0.857673</td>\n      <td>0.296596</td>\n      <td>0.078673</td>\n      <td>6.197391e+06</td>\n      <td>77470.615385</td>\n      <td>0.134250</td>\n      <td>4.621439e+05</td>\n      <td>4.626163e+05</td>\n      <td>1.397176e+05</td>\n    </tr>\n    <tr>\n      <th>std</th>\n      <td>0.054816</td>\n      <td>0.013984</td>\n      <td>0.113623</td>\n      <td>0.031910</td>\n      <td>0.037041</td>\n      <td>0.096592</td>\n      <td>0.002845</td>\n      <td>0.011427</td>\n      <td>0.184308</td>\n      <td>0.342036</td>\n      <td>0.068016</td>\n      <td>0.123078</td>\n      <td>0.019896</td>\n      <td>1.308983e+07</td>\n      <td>23759.266377</td>\n      <td>0.039007</td>\n      <td>8.103300e+05</td>\n      <td>8.210987e+05</td>\n      <td>2.379173e+05</td>\n    </tr>\n    <tr>\n      <th>min</th>\n      <td>0.107000</td>\n      <td>0.447000</td>\n      <td>0.478000</td>\n      <td>0.003000</td>\n      <td>0.008000</td>\n      <td>0.009000</td>\n      <td>0.001000</td>\n      <td>0.017000</td>\n      <td>0.079000</td>\n      <td>2.120000</td>\n      <td>0.704000</td>\n      <td>0.143000</td>\n      <td>0.042000</td>\n      <td>1.952200e+04</td>\n      <td>42206.000000</td>\n      <td>0.066000</td>\n      <td>3.315200e+04</td>\n      <td>3.234600e+04</td>\n      <td>8.774000e+03</td>\n    </tr>\n    <tr>\n      <th>25%</th>\n      <td>0.145000</td>\n      <td>0.492000</td>\n      <td>0.742250</td>\n      <td>0.015000</td>\n      <td>0.014000</td>\n      <td>0.021000</td>\n      <td>0.003000</td>\n      <td>0.037000</td>\n      <td>0.156500</td>\n      <td>2.525000</td>\n      <td>0.809750</td>\n      <td>0.195000</td>\n      <td>0.064000</td>\n      <td>4.636178e+05</td>\n      <td>59603.250000</td>\n      <td>0.104500</td>\n      <td>8.626750e+04</td>\n      <td>8.224075e+04</td>\n      <td>2.803400e+04</td>\n    </tr>\n    <tr>\n      <th>50%</th>\n      <td>0.172000</td>\n      <td>0.498500</td>\n      <td>0.828500</td>\n      <td>0.025000</td>\n      <td>0.022500</td>\n      <td>0.053000</td>\n      <td>0.004000</td>\n      <td>0.041500</td>\n      <td>0.272500</td>\n      <td>2.815000</td>\n      <td>0.878500</td>\n      <td>0.269000</td>\n      <td>0.077500</td>\n      <td>1.941528e+06</td>\n      <td>72452.000000</td>\n      <td>0.131500</td>\n      <td>2.127560e+05</td>\n      <td>2.120565e+05</td>\n      <td>6.247250e+04</td>\n    </tr>\n    <tr>\n      <th>75%</th>\n      <td>0.227250</td>\n      <td>0.503000</td>\n      <td>0.866750</td>\n      <td>0.050000</td>\n      <td>0.032000</td>\n      <td>0.119250</td>\n      <td>0.005250</td>\n      <td>0.050000</td>\n      <td>0.476750</td>\n      <td>3.015000</td>\n      <td>0.909250</td>\n      <td>0.375000</td>\n      <td>0.089000</td>\n      <td>4.906994e+06</td>\n      <td>92242.750000</td>\n      <td>0.162000</td>\n      <td>4.583742e+05</td>\n      <td>4.398265e+05</td>\n      <td>1.376090e+05</td>\n    </tr>\n    <tr>\n      <th>max</th>\n      <td>0.304000</td>\n      <td>0.514000</td>\n      <td>0.928000</td>\n      <td>0.148000</td>\n      <td>0.237000</td>\n      <td>0.406000</td>\n      <td>0.014000</td>\n      <td>0.075000</td>\n      <td>0.858000</td>\n      <td>3.730000</td>\n      <td>0.951000</td>\n      <td>0.601000</td>\n      <td>0.130000</td>\n      <td>8.437218e+07</td>\n      <td>140258.000000</td>\n      <td>0.214000</td>\n      <td>4.870908e+06</td>\n      <td>4.958636e+06</td>\n      <td>1.436519e+06</td>\n    </tr>\n  </tbody>\n</table>\n</div>"
          },
          "metadata": {}
        }
      ],
      "execution_count": 17,
      "metadata": {
        "jupyter": {
          "source_hidden": false,
          "outputs_hidden": false
        },
        "nteract": {
          "transient": {
            "deleting": false
          }
        },
        "gather": {
          "logged": 1709345641457
        }
      }
    },
    {
      "cell_type": "code",
      "source": [
        "df.describe().iloc[:,40:]"
      ],
      "outputs": [
        {
          "output_type": "execute_result",
          "execution_count": 18,
          "data": {
            "text/plain": "       Households-Total  Households-Median income (dollars)  \\\ncount      4.200000e+01                           42.000000   \nmean       3.160967e+05                        82118.547619   \nstd        5.585587e+05                        22574.332829   \nmin        2.030700e+04                        48810.000000   \n25%        5.128025e+04                        63340.750000   \n50%        1.383825e+05                        79791.000000   \n75%        3.127252e+05                        95914.250000   \nmax        3.375587e+06                       141562.000000   \n\n       Households-Mean income (dollars)  Families-Total  \\\ncount                         42.000000    4.200000e+01   \nmean                      112612.071429    2.154435e+05   \nstd                        35038.071688    3.715329e+05   \nmin                        64627.000000    1.560900e+04   \n25%                        84900.000000    3.508700e+04   \n50%                       108775.500000    9.676700e+04   \n75%                       129679.250000    2.048268e+05   \nmax                       200346.000000    2.217649e+06   \n\n       Families-Median income (dollars)  Families-Mean income (dollars)  \\\ncount                         42.000000                       42.000000   \nmean                       97178.047619                   128387.928571   \nstd                        29083.947416                    42892.207732   \nmin                        60114.000000                    76905.000000   \n25%                        73226.500000                    99237.000000   \n50%                        92066.500000                   121467.000000   \n75%                       115206.500000                   148137.000000   \nmax                       165271.000000                   244027.000000   \n\n        latitude   longitude  Total Enrollments  \ncount  58.000000   58.000000          58.000000  \nmean   37.827981 -120.812506         423.172414  \nstd     2.168753    1.828623        1489.662403  \nmin    32.865263 -124.085000           0.000000  \n25%    36.750673 -122.111250          17.250000  \n50%    38.045238 -120.928155          51.000000  \n75%    39.236071 -119.949896         130.250000  \nmax    41.786667 -115.430000       10986.000000  ",
            "text/html": "<div>\n<style scoped>\n    .dataframe tbody tr th:only-of-type {\n        vertical-align: middle;\n    }\n\n    .dataframe tbody tr th {\n        vertical-align: top;\n    }\n\n    .dataframe thead th {\n        text-align: right;\n    }\n</style>\n<table border=\"1\" class=\"dataframe\">\n  <thead>\n    <tr style=\"text-align: right;\">\n      <th></th>\n      <th>Households-Total</th>\n      <th>Households-Median income (dollars)</th>\n      <th>Households-Mean income (dollars)</th>\n      <th>Families-Total</th>\n      <th>Families-Median income (dollars)</th>\n      <th>Families-Mean income (dollars)</th>\n      <th>latitude</th>\n      <th>longitude</th>\n      <th>Total Enrollments</th>\n    </tr>\n  </thead>\n  <tbody>\n    <tr>\n      <th>count</th>\n      <td>4.200000e+01</td>\n      <td>42.000000</td>\n      <td>42.000000</td>\n      <td>4.200000e+01</td>\n      <td>42.000000</td>\n      <td>42.000000</td>\n      <td>58.000000</td>\n      <td>58.000000</td>\n      <td>58.000000</td>\n    </tr>\n    <tr>\n      <th>mean</th>\n      <td>3.160967e+05</td>\n      <td>82118.547619</td>\n      <td>112612.071429</td>\n      <td>2.154435e+05</td>\n      <td>97178.047619</td>\n      <td>128387.928571</td>\n      <td>37.827981</td>\n      <td>-120.812506</td>\n      <td>423.172414</td>\n    </tr>\n    <tr>\n      <th>std</th>\n      <td>5.585587e+05</td>\n      <td>22574.332829</td>\n      <td>35038.071688</td>\n      <td>3.715329e+05</td>\n      <td>29083.947416</td>\n      <td>42892.207732</td>\n      <td>2.168753</td>\n      <td>1.828623</td>\n      <td>1489.662403</td>\n    </tr>\n    <tr>\n      <th>min</th>\n      <td>2.030700e+04</td>\n      <td>48810.000000</td>\n      <td>64627.000000</td>\n      <td>1.560900e+04</td>\n      <td>60114.000000</td>\n      <td>76905.000000</td>\n      <td>32.865263</td>\n      <td>-124.085000</td>\n      <td>0.000000</td>\n    </tr>\n    <tr>\n      <th>25%</th>\n      <td>5.128025e+04</td>\n      <td>63340.750000</td>\n      <td>84900.000000</td>\n      <td>3.508700e+04</td>\n      <td>73226.500000</td>\n      <td>99237.000000</td>\n      <td>36.750673</td>\n      <td>-122.111250</td>\n      <td>17.250000</td>\n    </tr>\n    <tr>\n      <th>50%</th>\n      <td>1.383825e+05</td>\n      <td>79791.000000</td>\n      <td>108775.500000</td>\n      <td>9.676700e+04</td>\n      <td>92066.500000</td>\n      <td>121467.000000</td>\n      <td>38.045238</td>\n      <td>-120.928155</td>\n      <td>51.000000</td>\n    </tr>\n    <tr>\n      <th>75%</th>\n      <td>3.127252e+05</td>\n      <td>95914.250000</td>\n      <td>129679.250000</td>\n      <td>2.048268e+05</td>\n      <td>115206.500000</td>\n      <td>148137.000000</td>\n      <td>39.236071</td>\n      <td>-119.949896</td>\n      <td>130.250000</td>\n    </tr>\n    <tr>\n      <th>max</th>\n      <td>3.375587e+06</td>\n      <td>141562.000000</td>\n      <td>200346.000000</td>\n      <td>2.217649e+06</td>\n      <td>165271.000000</td>\n      <td>244027.000000</td>\n      <td>41.786667</td>\n      <td>-115.430000</td>\n      <td>10986.000000</td>\n    </tr>\n  </tbody>\n</table>\n</div>"
          },
          "metadata": {}
        }
      ],
      "execution_count": 18,
      "metadata": {
        "jupyter": {
          "source_hidden": false,
          "outputs_hidden": false
        },
        "nteract": {
          "transient": {
            "deleting": false
          }
        },
        "gather": {
          "logged": 1709345642004
        }
      }
    },
    {
      "cell_type": "code",
      "source": [
        "df.isnull().sum() * 100 / len(df)"
      ],
      "outputs": [
        {
          "output_type": "execute_result",
          "execution_count": 19,
          "data": {
            "text/plain": "CountyID                                                                        0.000000\nCounty                                                                          0.000000\nCountyFullName                                                                  0.000000\nState                                                                           0.000000\nDiabetesPercentage                                                              0.000000\nDiabetesLowerLimit                                                              0.000000\nDiabetesUpperLimit                                                              0.000000\nAir Quality Value                                                               0.000000\nSmoking%                                                                        0.000000\nRANK ORDER                                                                      0.000000\n2019 POPULATION                                                                 0.000000\n2018-2020  DEATHS (TOTAL)                                                       5.172414\n2018-2020  DEATHS (AVERAGE)                                                     0.000000\nCRUDE DEATH RATE                                                                0.000000\nAGE-ADJUSTED DEATH RATE                                                         0.000000\n95% CONFIDENCE LIMIT (LOWER)                                                    0.000000\n95% CONFIDENCE LIMIT (UPPER)                                                    0.000000\nHealthCostPerCapita$                                                            0.000000\nCancer_Rate_per_100K                                                            6.896552\nCancer_Total                                                                   13.793103\nSNF_Enrollment_ID_Count                                                         0.000000\nHospital_Enrollment_Count                                                       0.000000\nMedicare_CA_Count                                                              25.862069\nPopulation Estimates, July 1 2021, (V2021)                                      8.620690\nPersons under 5 years, percent                                                 10.344828\nPersons under 18 years, percent                                                10.344828\nPersons 65 years and over, percent                                             10.344828\nFemale persons, percent                                                        10.344828\nWhite alone, percent                                                           10.344828\nBlack or African American alone, percent                                       10.344828\nAmerican Indian and Alaska Native alone, percent                               10.344828\nAsian alone, percent                                                           10.344828\nNative Hawaiian and Other Pacific Islander alone, percent                      10.344828\nTwo or More Races, percent                                                     10.344828\nHispanic or Latino, percent                                                    10.344828\nPersons per household, 2017-2021                                               10.344828\nHigh school graduate or higher, percent of persons age 25 years+, 2017-2021    10.344828\nBachelor's degree or higher, percent of persons age 25 years+, 2017-2021       10.344828\nPersons  without health insurance, under age 65 years, percent                 10.344828\nTotal health care and social assistance receipts/revenue, 2017 ($1,000)        13.793103\nMedian household income (in 2021 dollars), 2017-2021                           10.344828\nPersons in poverty, percent                                                    10.344828\nPopulation-Male                                                                27.586207\nPopulation-Female                                                              27.586207\nPopulation-Senior                                                              27.586207\nHouseholds-Total                                                               27.586207\nHouseholds-Median income (dollars)                                             27.586207\nHouseholds-Mean income (dollars)                                               27.586207\nFamilies-Total                                                                 27.586207\nFamilies-Median income (dollars)                                               27.586207\nFamilies-Mean income (dollars)                                                 27.586207\nlatitude                                                                        0.000000\nlongitude                                                                       0.000000\nTotal Enrollments                                                               0.000000\ndtype: float64"
          },
          "metadata": {}
        }
      ],
      "execution_count": 19,
      "metadata": {
        "jupyter": {
          "source_hidden": false,
          "outputs_hidden": false
        },
        "nteract": {
          "transient": {
            "deleting": false
          }
        },
        "gather": {
          "logged": 1709345642122
        }
      }
    },
    {
      "cell_type": "markdown",
      "source": [
        "## New Features integration:"
      ],
      "metadata": {
        "nteract": {
          "transient": {
            "deleting": false
          }
        }
      }
    },
    {
      "cell_type": "code",
      "source": [
        "df['Healthcare_Utilization_Rate'] = ((df['SNF_Enrollment_ID_Count']+df['Hospital_Enrollment_Count'])/df['Population Estimates, July 1 2021, (V2021)'])*100\n",
        "df['Healthcare_Utilization_Rate'].head(10)"
      ],
      "outputs": [
        {
          "output_type": "execute_result",
          "execution_count": 20,
          "data": {
            "text/plain": "0    0.061326\n1    0.242915\n2    0.118762\n3    0.028323\n4         NaN\n5    0.077565\n6    0.043568\n7    0.021352\n8    0.027947\n9    0.118195\nName: Healthcare_Utilization_Rate, dtype: float64"
          },
          "metadata": {}
        }
      ],
      "execution_count": 20,
      "metadata": {
        "jupyter": {
          "source_hidden": false,
          "outputs_hidden": false
        },
        "nteract": {
          "transient": {
            "deleting": false
          }
        },
        "gather": {
          "logged": 1709345642259
        }
      }
    },
    {
      "cell_type": "code",
      "source": [
        "df['Income_disparity_index'] = df['Families-Median income (dollars)']/df['Households-Median income (dollars)']\n",
        "df['Income_disparity_index'].head(10)"
      ],
      "outputs": [
        {
          "output_type": "execute_result",
          "execution_count": 21,
          "data": {
            "text/plain": "0    1.247984\n1         NaN\n2         NaN\n3    1.261747\n4         NaN\n5         NaN\n6    1.145202\n7         NaN\n8    1.352025\n9    1.112684\nName: Income_disparity_index, dtype: float64"
          },
          "metadata": {}
        }
      ],
      "execution_count": 21,
      "metadata": {
        "jupyter": {
          "source_hidden": false,
          "outputs_hidden": false
        },
        "nteract": {
          "transient": {
            "deleting": false
          }
        },
        "gather": {
          "logged": 1709345642457
        }
      }
    },
    {
      "cell_type": "code",
      "source": [
        "df['Population Demographics Ratio'] = df['Persons under 18 years, percent']/df['Persons 65 years and over, percent']\n",
        "df['Population Demographics Ratio'].head(10)"
      ],
      "outputs": [
        {
          "output_type": "execute_result",
          "execution_count": 22,
          "data": {
            "text/plain": "0    1.348993\n1    0.721774\n2    0.554745\n3    1.120879\n4         NaN\n5    1.733766\n6    1.329341\n7    1.100529\n8    0.867257\n9    2.238095\nName: Population Demographics Ratio, dtype: float64"
          },
          "metadata": {}
        }
      ],
      "execution_count": 22,
      "metadata": {
        "jupyter": {
          "source_hidden": false,
          "outputs_hidden": false
        },
        "nteract": {
          "transient": {
            "deleting": false
          }
        },
        "gather": {
          "logged": 1709345642780
        }
      }
    },
    {
      "cell_type": "code",
      "source": [
        "df['Education Diversity Score'] = 0.5 * (100 - abs(df['High school graduate or higher, percent of persons age 25 years+, 2017-2021'] - df[\"Bachelor's degree or higher, percent of persons age 25 years+, 2017-2021\"]))\n",
        "df['Education Diversity Score'].head(10)"
      ],
      "outputs": [
        {
          "output_type": "execute_result",
          "execution_count": 23,
          "data": {
            "text/plain": "0    49.8030\n1    49.7280\n2    49.6410\n3    49.6975\n4        NaN\n5    49.7070\n6    49.7720\n7    49.6775\n8    49.7105\n9    49.7235\nName: Education Diversity Score, dtype: float64"
          },
          "metadata": {}
        }
      ],
      "execution_count": 23,
      "metadata": {
        "jupyter": {
          "source_hidden": false,
          "outputs_hidden": false
        },
        "nteract": {
          "transient": {
            "deleting": false
          }
        },
        "gather": {
          "logged": 1709345642937
        }
      }
    },
    {
      "cell_type": "code",
      "source": [
        "df['Ethnic_Diversity_Index'] = 1- (((df['White alone, percent'])**2)+((df['Black or African American alone, percent'])**2)+((df['American Indian and Alaska Native alone, percent'])**2)+((df['Asian alone, percent'])**2)+((df['Native Hawaiian and Other Pacific Islander alone, percent'])**2)+((df['Two or More Races, percent'])**2)+((df['Hispanic or Latino, percent'])**2))\n",
        "df['Ethnic_Diversity_Index'].head(10)"
      ],
      "outputs": [
        {
          "output_type": "execute_result",
          "execution_count": 24,
          "data": {
            "text/plain": "0    0.592290\n1    0.441232\n2    0.179117\n3    0.240692\n4         NaN\n5   -0.200560\n6    0.472612\n7    0.339948\n8    0.205088\n9    0.108683\nName: Ethnic_Diversity_Index, dtype: float64"
          },
          "metadata": {}
        }
      ],
      "execution_count": 24,
      "metadata": {
        "jupyter": {
          "source_hidden": false,
          "outputs_hidden": false
        },
        "nteract": {
          "transient": {
            "deleting": false
          }
        },
        "gather": {
          "logged": 1709345643100
        }
      }
    },
    {
      "cell_type": "markdown",
      "source": [
        "## Descriptive Analytics as Statistics:"
      ],
      "metadata": {
        "nteract": {
          "transient": {
            "deleting": false
          }
        }
      }
    },
    {
      "cell_type": "code",
      "source": [
        "df.head().iloc[0,0:len(df)+1]"
      ],
      "outputs": [
        {
          "output_type": "execute_result",
          "execution_count": 25,
          "data": {
            "text/plain": "CountyID                                                                                 6001\nCounty                                                                                Alameda\nCountyFullName                                                                 Alameda County\nState                                                                                      CA\nDiabetesPercentage                                                                        7.4\nDiabetesLowerLimit                                                                        5.7\nDiabetesUpperLimit                                                                        9.5\nAir Quality Value                                                                       166.9\nSmoking%                                                                                166.9\nRANK ORDER                                                                                  9\n2019 POPULATION                                                                       1668965\n2018-2020  DEATHS (TOTAL)                                                                 470\n2018-2020  DEATHS (AVERAGE)                                                             156.7\nCRUDE DEATH RATE                                                                          9.4\nAGE-ADJUSTED DEATH RATE                                                                   8.8\n95% CONFIDENCE LIMIT (LOWER)                                                                8\n95% CONFIDENCE LIMIT (UPPER)                                                              9.7\nHealthCostPerCapita$                                                                    166.9\nCancer_Rate_per_100K                                                                     41.2\nCancer_Total                                                                              670\nSNF_Enrollment_ID_Count                                                                   990\nHospital_Enrollment_Count                                                                  21\nMedicare_CA_Count                                                                         277\nPopulation Estimates, July 1 2021, (V2021)                                        1.64856e+06\nPersons under 5 years, percent                                                          0.053\nPersons under 18 years, percent                                                         0.201\nPersons 65 years and over, percent                                                      0.149\nFemale persons, percent                                                                 0.504\nWhite alone, percent                                                                    0.478\nBlack or African American alone, percent                                                0.107\nAmerican Indian and Alaska Native alone, percent                                        0.011\nAsian alone, percent                                                                    0.338\nNative Hawaiian and Other Pacific Islander alone, percent                                0.01\nTwo or More Races, percent                                                              0.056\nHispanic or Latino, percent                                                             0.224\nPersons per household, 2017-2021                                                         2.82\nHigh school graduate or higher, percent of persons age 25 years+, 2017-2021              0.89\nBachelor's degree or higher, percent of persons age 25 years+, 2017-2021                0.496\nPersons  without health insurance, under age 65 years, percent                          0.049\nTotal health care and social assistance receipts/revenue, 2017 ($1,000)            1.6159e+07\nMedian household income (in 2021 dollars), 2017-2021                                   112017\nPersons in poverty, percent                                                             0.094\nPopulation-Male                                                                        816792\nPopulation-Female                                                                      831764\nPopulation-Senior                                                                      246050\nHouseholds-Total                                                                       589180\nHouseholds-Median income (dollars)                                                     109729\nHouseholds-Mean income (dollars)                                                       149973\nFamilies-Total                                                                         383755\nFamilies-Median income (dollars)                                                       136940\nFamilies-Mean income (dollars)                                                         175733\nlatitude                                                                               37.745\nlongitude                                                                            -122.155\nTotal Enrollments                                                                        1011\nHealthcare_Utilization_Rate                                                         0.0613264\nIncome_disparity_index                                                                1.24798\nPopulation Demographics Ratio                                                         1.34899\nEducation Diversity Score                                                              49.803\nEthnic_Diversity_Index                                                                0.59229\nName: 0, dtype: object"
          },
          "metadata": {}
        }
      ],
      "execution_count": 25,
      "metadata": {
        "jupyter": {
          "source_hidden": false,
          "outputs_hidden": false
        },
        "nteract": {
          "transient": {
            "deleting": false
          }
        },
        "gather": {
          "logged": 1709345643460
        }
      }
    },
    {
      "cell_type": "markdown",
      "source": [
        "##### Counties where the families median income is the highest?"
      ],
      "metadata": {
        "nteract": {
          "transient": {
            "deleting": false
          }
        }
      }
    },
    {
      "cell_type": "code",
      "source": [
        "df[['CountyFullName','Families-Median income (dollars)']].dropna(how='any',axis=0).sort_values('Families-Median income (dollars)',ascending=False,ignore_index=True).head(10)"
      ],
      "outputs": [
        {
          "output_type": "execute_result",
          "execution_count": 26,
          "data": {
            "text/plain": "         CountyFullName  Families-Median income (dollars)\n0          Marin County                          165271.0\n1    Santa Clara County                          161586.0\n2      San Mateo County                          157287.0\n3  San Francisco County                          150429.0\n4        Alameda County                          136940.0\n5   Contra Costa County                          127209.0\n6     San Benito County                          125002.0\n7         Placer County                          119835.0\n8     Santa Cruz County                          118352.0\n9      El Dorado County                          118290.0",
            "text/html": "<div>\n<style scoped>\n    .dataframe tbody tr th:only-of-type {\n        vertical-align: middle;\n    }\n\n    .dataframe tbody tr th {\n        vertical-align: top;\n    }\n\n    .dataframe thead th {\n        text-align: right;\n    }\n</style>\n<table border=\"1\" class=\"dataframe\">\n  <thead>\n    <tr style=\"text-align: right;\">\n      <th></th>\n      <th>CountyFullName</th>\n      <th>Families-Median income (dollars)</th>\n    </tr>\n  </thead>\n  <tbody>\n    <tr>\n      <th>0</th>\n      <td>Marin County</td>\n      <td>165271.0</td>\n    </tr>\n    <tr>\n      <th>1</th>\n      <td>Santa Clara County</td>\n      <td>161586.0</td>\n    </tr>\n    <tr>\n      <th>2</th>\n      <td>San Mateo County</td>\n      <td>157287.0</td>\n    </tr>\n    <tr>\n      <th>3</th>\n      <td>San Francisco County</td>\n      <td>150429.0</td>\n    </tr>\n    <tr>\n      <th>4</th>\n      <td>Alameda County</td>\n      <td>136940.0</td>\n    </tr>\n    <tr>\n      <th>5</th>\n      <td>Contra Costa County</td>\n      <td>127209.0</td>\n    </tr>\n    <tr>\n      <th>6</th>\n      <td>San Benito County</td>\n      <td>125002.0</td>\n    </tr>\n    <tr>\n      <th>7</th>\n      <td>Placer County</td>\n      <td>119835.0</td>\n    </tr>\n    <tr>\n      <th>8</th>\n      <td>Santa Cruz County</td>\n      <td>118352.0</td>\n    </tr>\n    <tr>\n      <th>9</th>\n      <td>El Dorado County</td>\n      <td>118290.0</td>\n    </tr>\n  </tbody>\n</table>\n</div>"
          },
          "metadata": {}
        }
      ],
      "execution_count": 26,
      "metadata": {
        "jupyter": {
          "source_hidden": false,
          "outputs_hidden": false
        },
        "nteract": {
          "transient": {
            "deleting": false
          }
        },
        "gather": {
          "logged": 1709345643622
        }
      }
    },
    {
      "cell_type": "markdown",
      "source": [
        "##### Top 10 counties where the health utilization is the highest?"
      ],
      "metadata": {
        "nteract": {
          "transient": {
            "deleting": false
          }
        }
      }
    },
    {
      "cell_type": "code",
      "source": [
        "df[['CountyFullName','Healthcare_Utilization_Rate']].dropna(how='any',axis=0).sort_values('Healthcare_Utilization_Rate',ascending=False,ignore_index=True).head(10)"
      ],
      "outputs": [
        {
          "output_type": "execute_result",
          "execution_count": 27,
          "data": {
            "text/plain": "         CountyFullName  Healthcare_Utilization_Rate\n0         Alpine County                     0.242915\n1          Modoc County                     0.161644\n2     Sacramento County                     0.150983\n3  San Francisco County                     0.130152\n4         Amador County                     0.118762\n5         Fresno County                     0.118195\n6    Los Angeles County                     0.111765\n7           Inyo County                     0.110701\n8       Tuolumne County                     0.094965\n9        Trinity County                     0.093400",
            "text/html": "<div>\n<style scoped>\n    .dataframe tbody tr th:only-of-type {\n        vertical-align: middle;\n    }\n\n    .dataframe tbody tr th {\n        vertical-align: top;\n    }\n\n    .dataframe thead th {\n        text-align: right;\n    }\n</style>\n<table border=\"1\" class=\"dataframe\">\n  <thead>\n    <tr style=\"text-align: right;\">\n      <th></th>\n      <th>CountyFullName</th>\n      <th>Healthcare_Utilization_Rate</th>\n    </tr>\n  </thead>\n  <tbody>\n    <tr>\n      <th>0</th>\n      <td>Alpine County</td>\n      <td>0.242915</td>\n    </tr>\n    <tr>\n      <th>1</th>\n      <td>Modoc County</td>\n      <td>0.161644</td>\n    </tr>\n    <tr>\n      <th>2</th>\n      <td>Sacramento County</td>\n      <td>0.150983</td>\n    </tr>\n    <tr>\n      <th>3</th>\n      <td>San Francisco County</td>\n      <td>0.130152</td>\n    </tr>\n    <tr>\n      <th>4</th>\n      <td>Amador County</td>\n      <td>0.118762</td>\n    </tr>\n    <tr>\n      <th>5</th>\n      <td>Fresno County</td>\n      <td>0.118195</td>\n    </tr>\n    <tr>\n      <th>6</th>\n      <td>Los Angeles County</td>\n      <td>0.111765</td>\n    </tr>\n    <tr>\n      <th>7</th>\n      <td>Inyo County</td>\n      <td>0.110701</td>\n    </tr>\n    <tr>\n      <th>8</th>\n      <td>Tuolumne County</td>\n      <td>0.094965</td>\n    </tr>\n    <tr>\n      <th>9</th>\n      <td>Trinity County</td>\n      <td>0.093400</td>\n    </tr>\n  </tbody>\n</table>\n</div>"
          },
          "metadata": {}
        }
      ],
      "execution_count": 27,
      "metadata": {
        "jupyter": {
          "source_hidden": false,
          "outputs_hidden": false
        },
        "nteract": {
          "transient": {
            "deleting": false
          }
        },
        "gather": {
          "logged": 1709345643808
        }
      }
    },
    {
      "cell_type": "markdown",
      "source": [
        "##### What is the percentage of races in the top and bottom 10 counties with the highest death rate?"
      ],
      "metadata": {
        "nteract": {
          "transient": {
            "deleting": false
          }
        }
      }
    },
    {
      "cell_type": "code",
      "source": [
        "df1 = df[['CountyFullName','CRUDE DEATH RATE','White alone, percent','Black or African American alone, percent','American Indian and Alaska Native alone, percent','Asian alone, percent','Native Hawaiian and Other Pacific Islander alone, percent','Two or More Races, percent','Hispanic or Latino, percent']]\n",
        "df1[['CRUDE DEATH RATE']] = [float(x[0].split(' *')[0]) for x in df1[['CRUDE DEATH RATE']].values]\n",
        "df1 = df1.dropna(how='any',axis=0)\n",
        "df1.iloc[:,2:-1] = df1.iloc[:,2:-1].multiply(100)\n",
        "df1 = df1.sort_values(['CRUDE DEATH RATE'],ascending=False)\n",
        "df1.index = [x for x in range(1,len(df1)+1)]\n",
        "\n",
        "res = dict(np.mean(df1.iloc[:,1:9], axis = 0))\n",
        "res['CountyFullName'] = 'Average'\n",
        "\n",
        "df1.iloc[np.r_[0:10, -10:0]].append(res,ignore_index=True)"
      ],
      "outputs": [
        {
          "output_type": "stream",
          "name": "stderr",
          "text": "/tmp/ipykernel_5721/2518125245.py:2: SettingWithCopyWarning: \nA value is trying to be set on a copy of a slice from a DataFrame.\nTry using .loc[row_indexer,col_indexer] = value instead\n\nSee the caveats in the documentation: https://pandas.pydata.org/pandas-docs/stable/user_guide/indexing.html#returning-a-view-versus-a-copy\n  df1[['CRUDE DEATH RATE']] = [float(x[0].split(' *')[0]) for x in df1[['CRUDE DEATH RATE']].values]\n/anaconda/envs/azureml_py38/lib/python3.8/site-packages/pandas/core/indexing.py:1743: SettingWithCopyWarning: \nA value is trying to be set on a copy of a slice from a DataFrame.\nTry using .loc[row_indexer,col_indexer] = value instead\n\nSee the caveats in the documentation: https://pandas.pydata.org/pandas-docs/stable/user_guide/indexing.html#returning-a-view-versus-a-copy\n  isetter(ilocs[0], value)\n"
        },
        {
          "output_type": "execute_result",
          "execution_count": 28,
          "data": {
            "text/plain": "          CountyFullName  CRUDE DEATH RATE  White alone, percent  \\\n0         Trinity County         42.400000             86.200000   \n1          Amador County         35.300000             89.100000   \n2          Sierra County         32.000000             92.800000   \n3          Alpine County         29.700000             69.600000   \n4          Shasta County         25.700000             86.900000   \n5            Lake County         25.500000             86.400000   \n6        Tuolumne County         25.400000             89.800000   \n7       Del Norte County         24.500000             77.500000   \n8        Siskiyou County         23.500000             85.300000   \n9        Humboldt County         23.200000             82.600000   \n10        Alameda County          9.400000             47.800000   \n11      San Mateo County          9.300000             58.000000   \n12         Colusa County          9.100000             90.700000   \n13  San Francisco County          9.100000             51.100000   \n14    Los Angeles County          8.700000             70.200000   \n15     San Benito County          8.600000             85.800000   \n16    Santa Clara County          8.600000             50.500000   \n17           Yolo County          8.500000             73.100000   \n18         Tulare County          7.300000             87.700000   \n19       Imperial County          5.600000             90.000000   \n20               Average         16.165385             79.069231   \n\n    Black or African American alone, percent  \\\n0                                   0.700000   \n1                                   3.000000   \n2                                   0.600000   \n3                                   0.300000   \n4                                   1.300000   \n5                                   2.100000   \n6                                   2.400000   \n7                                   3.800000   \n8                                   1.500000   \n9                                   1.500000   \n10                                 10.700000   \n11                                  2.800000   \n12                                  1.500000   \n13                                  5.700000   \n14                                  9.000000   \n15                                  1.800000   \n16                                  2.900000   \n17                                  3.200000   \n18                                  2.300000   \n19                                  3.400000   \n20                                  3.761538   \n\n    American Indian and Alaska Native alone, percent  Asian alone, percent  \\\n0                                           5.300000              2.100000   \n1                                           2.100000              1.800000   \n2                                           2.600000              0.900000   \n3                                          23.700000              1.900000   \n4                                           3.200000              3.300000   \n5                                           4.700000              1.500000   \n6                                           2.200000              1.600000   \n7                                           9.700000              3.200000   \n8                                           5.200000              1.700000   \n9                                           6.400000              3.000000   \n10                                          1.100000             33.800000   \n11                                          0.900000             31.800000   \n12                                          2.900000              1.600000   \n13                                          0.800000             37.200000   \n14                                          1.500000             15.600000   \n15                                          3.200000              4.700000   \n16                                          1.200000             40.600000   \n17                                          1.800000             15.200000   \n18                                          2.800000              4.100000   \n19                                          2.600000              2.100000   \n20                                          3.315385              9.015385   \n\n    Native Hawaiian and Other Pacific Islander alone, percent  \\\n0                                            0.200000           \n1                                            0.400000           \n2                                            0.200000           \n3                                            0.100000           \n4                                            0.200000           \n5                                            0.300000           \n6                                            0.300000           \n7                                            0.200000           \n8                                            0.400000           \n9                                            0.400000           \n10                                           1.000000           \n11                                           1.400000           \n12                                           0.600000           \n13                                           0.500000           \n14                                           0.400000           \n15                                           0.600000           \n16                                           0.500000           \n17                                           0.600000           \n18                                           0.300000           \n19                                           0.200000           \n20                                           0.446154           \n\n    Two or More Races, percent  Hispanic or Latino, percent  \n0                     5.500000                     0.079000  \n1                     3.600000                     0.155000  \n2                     3.000000                     0.130000  \n3                     4.400000                     0.126000  \n4                     5.000000                     0.114000  \n5                     5.000000                     0.239000  \n6                     3.700000                     0.137000  \n7                     5.500000                     0.211000  \n8                     5.800000                     0.139000  \n9                     6.000000                     0.129000  \n10                    5.600000                     0.224000  \n11                    5.100000                     0.240000  \n12                    2.800000                     0.613000  \n13                    4.800000                     0.157000  \n14                    3.300000                     0.491000  \n15                    3.900000                     0.620000  \n16                    4.300000                     0.250000  \n17                    6.100000                     0.326000  \n18                    2.700000                     0.667000  \n19                    1.700000                     0.858000  \n20                    4.392308                     0.324308  ",
            "text/html": "<div>\n<style scoped>\n    .dataframe tbody tr th:only-of-type {\n        vertical-align: middle;\n    }\n\n    .dataframe tbody tr th {\n        vertical-align: top;\n    }\n\n    .dataframe thead th {\n        text-align: right;\n    }\n</style>\n<table border=\"1\" class=\"dataframe\">\n  <thead>\n    <tr style=\"text-align: right;\">\n      <th></th>\n      <th>CountyFullName</th>\n      <th>CRUDE DEATH RATE</th>\n      <th>White alone, percent</th>\n      <th>Black or African American alone, percent</th>\n      <th>American Indian and Alaska Native alone, percent</th>\n      <th>Asian alone, percent</th>\n      <th>Native Hawaiian and Other Pacific Islander alone, percent</th>\n      <th>Two or More Races, percent</th>\n      <th>Hispanic or Latino, percent</th>\n    </tr>\n  </thead>\n  <tbody>\n    <tr>\n      <th>0</th>\n      <td>Trinity County</td>\n      <td>42.400000</td>\n      <td>86.200000</td>\n      <td>0.700000</td>\n      <td>5.300000</td>\n      <td>2.100000</td>\n      <td>0.200000</td>\n      <td>5.500000</td>\n      <td>0.079000</td>\n    </tr>\n    <tr>\n      <th>1</th>\n      <td>Amador County</td>\n      <td>35.300000</td>\n      <td>89.100000</td>\n      <td>3.000000</td>\n      <td>2.100000</td>\n      <td>1.800000</td>\n      <td>0.400000</td>\n      <td>3.600000</td>\n      <td>0.155000</td>\n    </tr>\n    <tr>\n      <th>2</th>\n      <td>Sierra County</td>\n      <td>32.000000</td>\n      <td>92.800000</td>\n      <td>0.600000</td>\n      <td>2.600000</td>\n      <td>0.900000</td>\n      <td>0.200000</td>\n      <td>3.000000</td>\n      <td>0.130000</td>\n    </tr>\n    <tr>\n      <th>3</th>\n      <td>Alpine County</td>\n      <td>29.700000</td>\n      <td>69.600000</td>\n      <td>0.300000</td>\n      <td>23.700000</td>\n      <td>1.900000</td>\n      <td>0.100000</td>\n      <td>4.400000</td>\n      <td>0.126000</td>\n    </tr>\n    <tr>\n      <th>4</th>\n      <td>Shasta County</td>\n      <td>25.700000</td>\n      <td>86.900000</td>\n      <td>1.300000</td>\n      <td>3.200000</td>\n      <td>3.300000</td>\n      <td>0.200000</td>\n      <td>5.000000</td>\n      <td>0.114000</td>\n    </tr>\n    <tr>\n      <th>5</th>\n      <td>Lake County</td>\n      <td>25.500000</td>\n      <td>86.400000</td>\n      <td>2.100000</td>\n      <td>4.700000</td>\n      <td>1.500000</td>\n      <td>0.300000</td>\n      <td>5.000000</td>\n      <td>0.239000</td>\n    </tr>\n    <tr>\n      <th>6</th>\n      <td>Tuolumne County</td>\n      <td>25.400000</td>\n      <td>89.800000</td>\n      <td>2.400000</td>\n      <td>2.200000</td>\n      <td>1.600000</td>\n      <td>0.300000</td>\n      <td>3.700000</td>\n      <td>0.137000</td>\n    </tr>\n    <tr>\n      <th>7</th>\n      <td>Del Norte County</td>\n      <td>24.500000</td>\n      <td>77.500000</td>\n      <td>3.800000</td>\n      <td>9.700000</td>\n      <td>3.200000</td>\n      <td>0.200000</td>\n      <td>5.500000</td>\n      <td>0.211000</td>\n    </tr>\n    <tr>\n      <th>8</th>\n      <td>Siskiyou County</td>\n      <td>23.500000</td>\n      <td>85.300000</td>\n      <td>1.500000</td>\n      <td>5.200000</td>\n      <td>1.700000</td>\n      <td>0.400000</td>\n      <td>5.800000</td>\n      <td>0.139000</td>\n    </tr>\n    <tr>\n      <th>9</th>\n      <td>Humboldt County</td>\n      <td>23.200000</td>\n      <td>82.600000</td>\n      <td>1.500000</td>\n      <td>6.400000</td>\n      <td>3.000000</td>\n      <td>0.400000</td>\n      <td>6.000000</td>\n      <td>0.129000</td>\n    </tr>\n    <tr>\n      <th>10</th>\n      <td>Alameda County</td>\n      <td>9.400000</td>\n      <td>47.800000</td>\n      <td>10.700000</td>\n      <td>1.100000</td>\n      <td>33.800000</td>\n      <td>1.000000</td>\n      <td>5.600000</td>\n      <td>0.224000</td>\n    </tr>\n    <tr>\n      <th>11</th>\n      <td>San Mateo County</td>\n      <td>9.300000</td>\n      <td>58.000000</td>\n      <td>2.800000</td>\n      <td>0.900000</td>\n      <td>31.800000</td>\n      <td>1.400000</td>\n      <td>5.100000</td>\n      <td>0.240000</td>\n    </tr>\n    <tr>\n      <th>12</th>\n      <td>Colusa County</td>\n      <td>9.100000</td>\n      <td>90.700000</td>\n      <td>1.500000</td>\n      <td>2.900000</td>\n      <td>1.600000</td>\n      <td>0.600000</td>\n      <td>2.800000</td>\n      <td>0.613000</td>\n    </tr>\n    <tr>\n      <th>13</th>\n      <td>San Francisco County</td>\n      <td>9.100000</td>\n      <td>51.100000</td>\n      <td>5.700000</td>\n      <td>0.800000</td>\n      <td>37.200000</td>\n      <td>0.500000</td>\n      <td>4.800000</td>\n      <td>0.157000</td>\n    </tr>\n    <tr>\n      <th>14</th>\n      <td>Los Angeles County</td>\n      <td>8.700000</td>\n      <td>70.200000</td>\n      <td>9.000000</td>\n      <td>1.500000</td>\n      <td>15.600000</td>\n      <td>0.400000</td>\n      <td>3.300000</td>\n      <td>0.491000</td>\n    </tr>\n    <tr>\n      <th>15</th>\n      <td>San Benito County</td>\n      <td>8.600000</td>\n      <td>85.800000</td>\n      <td>1.800000</td>\n      <td>3.200000</td>\n      <td>4.700000</td>\n      <td>0.600000</td>\n      <td>3.900000</td>\n      <td>0.620000</td>\n    </tr>\n    <tr>\n      <th>16</th>\n      <td>Santa Clara County</td>\n      <td>8.600000</td>\n      <td>50.500000</td>\n      <td>2.900000</td>\n      <td>1.200000</td>\n      <td>40.600000</td>\n      <td>0.500000</td>\n      <td>4.300000</td>\n      <td>0.250000</td>\n    </tr>\n    <tr>\n      <th>17</th>\n      <td>Yolo County</td>\n      <td>8.500000</td>\n      <td>73.100000</td>\n      <td>3.200000</td>\n      <td>1.800000</td>\n      <td>15.200000</td>\n      <td>0.600000</td>\n      <td>6.100000</td>\n      <td>0.326000</td>\n    </tr>\n    <tr>\n      <th>18</th>\n      <td>Tulare County</td>\n      <td>7.300000</td>\n      <td>87.700000</td>\n      <td>2.300000</td>\n      <td>2.800000</td>\n      <td>4.100000</td>\n      <td>0.300000</td>\n      <td>2.700000</td>\n      <td>0.667000</td>\n    </tr>\n    <tr>\n      <th>19</th>\n      <td>Imperial County</td>\n      <td>5.600000</td>\n      <td>90.000000</td>\n      <td>3.400000</td>\n      <td>2.600000</td>\n      <td>2.100000</td>\n      <td>0.200000</td>\n      <td>1.700000</td>\n      <td>0.858000</td>\n    </tr>\n    <tr>\n      <th>20</th>\n      <td>Average</td>\n      <td>16.165385</td>\n      <td>79.069231</td>\n      <td>3.761538</td>\n      <td>3.315385</td>\n      <td>9.015385</td>\n      <td>0.446154</td>\n      <td>4.392308</td>\n      <td>0.324308</td>\n    </tr>\n  </tbody>\n</table>\n</div>"
          },
          "metadata": {}
        }
      ],
      "execution_count": 28,
      "metadata": {
        "jupyter": {
          "source_hidden": false,
          "outputs_hidden": false
        },
        "nteract": {
          "transient": {
            "deleting": false
          }
        },
        "gather": {
          "logged": 1709345644010
        }
      }
    },
    {
      "cell_type": "markdown",
      "source": [
        "##### What unique anomaly we can see in this in Counties where Asian also and Hispanic or Latino races lives the death rates are low."
      ],
      "metadata": {
        "nteract": {
          "transient": {
            "deleting": false
          }
        }
      }
    },
    {
      "cell_type": "markdown",
      "source": [
        "##### Do counties where the meadian family income in highest have least number of people with health insurance?"
      ],
      "metadata": {
        "nteract": {
          "transient": {
            "deleting": false
          }
        }
      }
    },
    {
      "cell_type": "code",
      "source": [
        "df1 = df[['CountyID','CountyFullName','Families-Mean income (dollars)']].sort_values(['Families-Mean income (dollars)'],ascending=False)\n",
        "df2 = df[['CountyID','Persons  without health insurance, under age 65 years, percent']].sort_values(['Persons  without health insurance, under age 65 years, percent'])\n",
        "df2['Health_insurance_rank'] = [x for x in range(1,len(df2)+1)]\n",
        "df1 = df1.merge(df2,on=\"CountyID\", how=\"left\").dropna(how='any',axis=0)\n",
        "df1.index = [x for x in range(1,len(df1)+1)]\n",
        "df1.head(10)"
      ],
      "outputs": [
        {
          "output_type": "execute_result",
          "execution_count": 29,
          "data": {
            "text/plain": "    CountyID        CountyFullName  Families-Mean income (dollars)  \\\n1       6041          Marin County                        244027.0   \n2       6081      San Mateo County                        234093.0   \n3       6075  San Francisco County                        224909.0   \n4       6085    Santa Clara County                        219992.0   \n5       6001        Alameda County                        175733.0   \n6       6013   Contra Costa County                        171972.0   \n7       6087     Santa Cruz County                        160780.0   \n8       6017      El Dorado County                        155888.0   \n9       6059         Orange County                        151782.0   \n10      6055           Napa County                        151527.0   \n\n    Persons  without health insurance, under age 65 years, percent  \\\n1                                               0.042                \n2                                               0.044                \n3                                               0.049                \n4                                               0.050                \n5                                               0.049                \n6                                               0.054                \n7                                               0.080                \n8                                               0.054                \n9                                               0.075                \n10                                              0.086                \n\n    Health_insurance_rank  \n1                       1  \n2                       2  \n3                       4  \n4                       6  \n5                       5  \n6                       7  \n7                      28  \n8                       8  \n9                      21  \n10                     35  ",
            "text/html": "<div>\n<style scoped>\n    .dataframe tbody tr th:only-of-type {\n        vertical-align: middle;\n    }\n\n    .dataframe tbody tr th {\n        vertical-align: top;\n    }\n\n    .dataframe thead th {\n        text-align: right;\n    }\n</style>\n<table border=\"1\" class=\"dataframe\">\n  <thead>\n    <tr style=\"text-align: right;\">\n      <th></th>\n      <th>CountyID</th>\n      <th>CountyFullName</th>\n      <th>Families-Mean income (dollars)</th>\n      <th>Persons  without health insurance, under age 65 years, percent</th>\n      <th>Health_insurance_rank</th>\n    </tr>\n  </thead>\n  <tbody>\n    <tr>\n      <th>1</th>\n      <td>6041</td>\n      <td>Marin County</td>\n      <td>244027.0</td>\n      <td>0.042</td>\n      <td>1</td>\n    </tr>\n    <tr>\n      <th>2</th>\n      <td>6081</td>\n      <td>San Mateo County</td>\n      <td>234093.0</td>\n      <td>0.044</td>\n      <td>2</td>\n    </tr>\n    <tr>\n      <th>3</th>\n      <td>6075</td>\n      <td>San Francisco County</td>\n      <td>224909.0</td>\n      <td>0.049</td>\n      <td>4</td>\n    </tr>\n    <tr>\n      <th>4</th>\n      <td>6085</td>\n      <td>Santa Clara County</td>\n      <td>219992.0</td>\n      <td>0.050</td>\n      <td>6</td>\n    </tr>\n    <tr>\n      <th>5</th>\n      <td>6001</td>\n      <td>Alameda County</td>\n      <td>175733.0</td>\n      <td>0.049</td>\n      <td>5</td>\n    </tr>\n    <tr>\n      <th>6</th>\n      <td>6013</td>\n      <td>Contra Costa County</td>\n      <td>171972.0</td>\n      <td>0.054</td>\n      <td>7</td>\n    </tr>\n    <tr>\n      <th>7</th>\n      <td>6087</td>\n      <td>Santa Cruz County</td>\n      <td>160780.0</td>\n      <td>0.080</td>\n      <td>28</td>\n    </tr>\n    <tr>\n      <th>8</th>\n      <td>6017</td>\n      <td>El Dorado County</td>\n      <td>155888.0</td>\n      <td>0.054</td>\n      <td>8</td>\n    </tr>\n    <tr>\n      <th>9</th>\n      <td>6059</td>\n      <td>Orange County</td>\n      <td>151782.0</td>\n      <td>0.075</td>\n      <td>21</td>\n    </tr>\n    <tr>\n      <th>10</th>\n      <td>6055</td>\n      <td>Napa County</td>\n      <td>151527.0</td>\n      <td>0.086</td>\n      <td>35</td>\n    </tr>\n  </tbody>\n</table>\n</div>"
          },
          "metadata": {}
        }
      ],
      "execution_count": 29,
      "metadata": {
        "jupyter": {
          "source_hidden": false,
          "outputs_hidden": false
        },
        "nteract": {
          "transient": {
            "deleting": false
          }
        },
        "gather": {
          "logged": 1709345644209
        }
      }
    },
    {
      "cell_type": "markdown",
      "source": [
        "## Descriptive Analytics as Visualization:"
      ],
      "metadata": {
        "nteract": {
          "transient": {
            "deleting": false
          }
        }
      }
    },
    {
      "cell_type": "code",
      "source": [
        "df.head().iloc[0,0:-1]"
      ],
      "outputs": [
        {
          "output_type": "execute_result",
          "execution_count": 30,
          "data": {
            "text/plain": "CountyID                                                                                 6001\nCounty                                                                                Alameda\nCountyFullName                                                                 Alameda County\nState                                                                                      CA\nDiabetesPercentage                                                                        7.4\nDiabetesLowerLimit                                                                        5.7\nDiabetesUpperLimit                                                                        9.5\nAir Quality Value                                                                       166.9\nSmoking%                                                                                166.9\nRANK ORDER                                                                                  9\n2019 POPULATION                                                                       1668965\n2018-2020  DEATHS (TOTAL)                                                                 470\n2018-2020  DEATHS (AVERAGE)                                                             156.7\nCRUDE DEATH RATE                                                                          9.4\nAGE-ADJUSTED DEATH RATE                                                                   8.8\n95% CONFIDENCE LIMIT (LOWER)                                                                8\n95% CONFIDENCE LIMIT (UPPER)                                                              9.7\nHealthCostPerCapita$                                                                    166.9\nCancer_Rate_per_100K                                                                     41.2\nCancer_Total                                                                              670\nSNF_Enrollment_ID_Count                                                                   990\nHospital_Enrollment_Count                                                                  21\nMedicare_CA_Count                                                                         277\nPopulation Estimates, July 1 2021, (V2021)                                        1.64856e+06\nPersons under 5 years, percent                                                          0.053\nPersons under 18 years, percent                                                         0.201\nPersons 65 years and over, percent                                                      0.149\nFemale persons, percent                                                                 0.504\nWhite alone, percent                                                                    0.478\nBlack or African American alone, percent                                                0.107\nAmerican Indian and Alaska Native alone, percent                                        0.011\nAsian alone, percent                                                                    0.338\nNative Hawaiian and Other Pacific Islander alone, percent                                0.01\nTwo or More Races, percent                                                              0.056\nHispanic or Latino, percent                                                             0.224\nPersons per household, 2017-2021                                                         2.82\nHigh school graduate or higher, percent of persons age 25 years+, 2017-2021              0.89\nBachelor's degree or higher, percent of persons age 25 years+, 2017-2021                0.496\nPersons  without health insurance, under age 65 years, percent                          0.049\nTotal health care and social assistance receipts/revenue, 2017 ($1,000)            1.6159e+07\nMedian household income (in 2021 dollars), 2017-2021                                   112017\nPersons in poverty, percent                                                             0.094\nPopulation-Male                                                                        816792\nPopulation-Female                                                                      831764\nPopulation-Senior                                                                      246050\nHouseholds-Total                                                                       589180\nHouseholds-Median income (dollars)                                                     109729\nHouseholds-Mean income (dollars)                                                       149973\nFamilies-Total                                                                         383755\nFamilies-Median income (dollars)                                                       136940\nFamilies-Mean income (dollars)                                                         175733\nlatitude                                                                               37.745\nlongitude                                                                            -122.155\nTotal Enrollments                                                                        1011\nHealthcare_Utilization_Rate                                                         0.0613264\nIncome_disparity_index                                                                1.24798\nPopulation Demographics Ratio                                                         1.34899\nEducation Diversity Score                                                              49.803\nName: 0, dtype: object"
          },
          "metadata": {}
        }
      ],
      "execution_count": 30,
      "metadata": {
        "jupyter": {
          "source_hidden": false,
          "outputs_hidden": false
        },
        "nteract": {
          "transient": {
            "deleting": false
          }
        },
        "gather": {
          "logged": 1709345644397
        }
      }
    },
    {
      "cell_type": "code",
      "source": [
        "df1 = df[['CountyID','DiabetesPercentage','Cancer_Rate_per_100K','Families-Median income (dollars)']].dropna(how='any',axis=0)\n",
        "df1 = df1.sort_values(['Families-Median income (dollars)'],ascending=False)\n",
        "df1.index = [x for x in range(0,len(df1))]\n",
        "df1.iloc[:, 1:4] = StandardScaler().fit_transform(df1.iloc[:, 1:4])"
      ],
      "outputs": [],
      "execution_count": 31,
      "metadata": {
        "jupyter": {
          "source_hidden": false,
          "outputs_hidden": false
        },
        "nteract": {
          "transient": {
            "deleting": false
          }
        },
        "gather": {
          "logged": 1709345644542
        }
      }
    },
    {
      "cell_type": "code",
      "source": [
        "#Modifying the font of the graph.\n",
        "font = {'family' : 'sans-serif',\n",
        "        'weight' : 'normal',\n",
        "        'size'   : 8}\n",
        "matplotlib.rc('font', **font)\n",
        "\n",
        "plt.figure(figsize=(16, 8), dpi=150)\n",
        "\n",
        "plt.plot(df1.index, df1.iloc[:,1], label ='y1')\n",
        "plt.plot(df1.index, df1.iloc[:,2], label ='y2')\n",
        "plt.plot(df1.index, df1.iloc[:,3], label ='y2')\n",
        "\n",
        "plt.xlabel(\"County\")\n",
        "plt.ylabel(\"Change in Value\")\n",
        "plt.title(\"Meat production and Average population density of the world over the years\")\n",
        "plt.show()"
      ],
      "outputs": [],
      "execution_count": 32,
      "metadata": {
        "jupyter": {
          "source_hidden": false,
          "outputs_hidden": false
        },
        "nteract": {
          "transient": {
            "deleting": false
          }
        },
        "gather": {
          "logged": 1709330848939
        }
      }
    },
    {
      "cell_type": "code",
      "source": [
        "df1 = df[['Smoking%','Education Diversity Score']].dropna(how='any',axis=0)\n",
        "df1['Smoking_stage'] = [(1 if(x>=122.5 and x<177.02) else(2 if(x>=177.02 and x<209.0) else(3 if(x>=209.0 and x<227.6) else(4)))) for x in df1['Smoking%']]\n",
        "df1.head()"
      ],
      "outputs": [],
      "execution_count": null,
      "metadata": {
        "jupyter": {
          "source_hidden": false,
          "outputs_hidden": false
        },
        "nteract": {
          "transient": {
            "deleting": false
          }
        },
        "gather": {
          "logged": 1709330849148
        }
      }
    },
    {
      "cell_type": "code",
      "source": [
        "plt.rcParams[\"figure.figsize\"] = [6.00, 4.00]\n",
        "plt.rcParams[\"figure.autolayout\"] = True\n",
        "\n",
        "x = df1['Education Diversity Score'].values\n",
        "y = df1['Smoking%'].values\n",
        "Cluster = df1['Smoking_stage'].values\n",
        "\n",
        "fig = plt.figure()\n",
        "ax = fig.add_subplot(111)\n",
        "scatter = ax.scatter(x, y, c=Cluster, s=50)\n",
        "\n",
        "plt.xlabel(\"Education Diversity Score\")\n",
        "plt.ylabel(\"Smoking Percentage\")\n",
        "plt.title(\"Meat production and Average population density of the world over the years\")\n",
        "plt.show()"
      ],
      "outputs": [],
      "execution_count": null,
      "metadata": {
        "jupyter": {
          "source_hidden": false,
          "outputs_hidden": false
        },
        "nteract": {
          "transient": {
            "deleting": false
          }
        },
        "gather": {
          "logged": 1709330849305
        }
      }
    },
    {
      "cell_type": "markdown",
      "source": [
        "##### Communities where the Educational Diversity score is more the Smoking is less."
      ],
      "metadata": {
        "nteract": {
          "transient": {
            "deleting": false
          }
        }
      }
    },
    {
      "cell_type": "code",
      "source": [
        "df1 = df[['CountyFullName','Population Estimates, July 1 2021, (V2021)','Persons under 5 years, percent','Persons under 18 years, percent','Persons 65 years and over, percent']].dropna(how='any',axis=0)\n",
        "df1[['Persons under 5 years, percent','Persons under 18 years, percent','Persons 65 years and over, percent']] = df1[['Persons under 5 years, percent','Persons under 18 years, percent','Persons 65 years and over, percent']].multiply(df1[\"Population Estimates, July 1 2021, (V2021)\"], axis=\"index\")\n",
        "df1.head()"
      ],
      "outputs": [],
      "execution_count": null,
      "metadata": {
        "jupyter": {
          "source_hidden": false,
          "outputs_hidden": false
        },
        "nteract": {
          "transient": {
            "deleting": false
          }
        },
        "gather": {
          "logged": 1709330849425
        }
      }
    },
    {
      "cell_type": "code",
      "source": [
        "font = {'family' : 'normal',\n",
        "        'weight' : 'normal',\n",
        "        'size'   : 10}\n",
        "matplotlib.rc('font', **font)"
      ],
      "outputs": [],
      "execution_count": null,
      "metadata": {
        "jupyter": {
          "source_hidden": false,
          "outputs_hidden": false
        },
        "nteract": {
          "transient": {
            "deleting": false
          }
        },
        "gather": {
          "logged": 1709330849917
        }
      }
    },
    {
      "cell_type": "code",
      "source": [
        "plt.figure(0)\n",
        "plt.pie(df1.sort_values('Persons under 5 years, percent',ascending=False)['Persons under 5 years, percent'], # Values\n",
        "        labels = df1['CountyFullName'],\n",
        "        radius = 4.0)\n",
        "plt.title('5 Years younger',loc='center')\n",
        "plt.figure(1)\n",
        "plt.pie(df1.sort_values('Persons under 18 years, percent',ascending=False)['Persons under 18 years, percent'], # Values\n",
        "        labels = df1['CountyFullName'],\n",
        "        radius = 4.0)\n",
        "plt.title('18 Years Older')\n",
        "plt.figure(3) \n",
        "plt.pie(df1.sort_values('Persons 65 years and over, percent',ascending=False)['Persons 65 years and over, percent'], # Values\n",
        "        labels = df1['CountyFullName'],\n",
        "        radius = 4.0)\n",
        "plt.title('65 Years younger')\n",
        "\n",
        "plt.show()"
      ],
      "outputs": [],
      "execution_count": null,
      "metadata": {
        "jupyter": {
          "source_hidden": false,
          "outputs_hidden": false
        },
        "nteract": {
          "transient": {
            "deleting": false
          }
        },
        "gather": {
          "logged": 1709330854579
        }
      }
    },
    {
      "cell_type": "markdown",
      "source": [
        "Saving the original data:"
      ],
      "metadata": {
        "nteract": {
          "transient": {
            "deleting": false
          }
        }
      }
    },
    {
      "cell_type": "code",
      "source": [
        "df.to_csv('Datasets/Original_data.csv', index = False)"
      ],
      "outputs": [],
      "execution_count": null,
      "metadata": {
        "jupyter": {
          "source_hidden": false,
          "outputs_hidden": false
        },
        "nteract": {
          "transient": {
            "deleting": false
          }
        },
        "gather": {
          "logged": 1709330854680
        }
      }
    },
    {
      "cell_type": "markdown",
      "source": [
        "# New Complementary Data:"
      ],
      "metadata": {
        "nteract": {
          "transient": {
            "deleting": false
          }
        }
      }
    },
    {
      "cell_type": "markdown",
      "source": [
        "We get new complementary data to see that if we can find new patterns and get better outcomes from previous data. This data sets may help us find new hypothesis which can be further use for predictive analysis."
      ],
      "metadata": {
        "nteract": {
          "transient": {
            "deleting": false
          }
        }
      }
    },
    {
      "cell_type": "markdown",
      "source": [
        "Household Data set: https://covid19.census.gov/datasets/USCensus::households-by-type-2017-2021-counties/about\n",
        "School Enrollment Dataset: https://covid19.census.gov/datasets/USCensus::school-enrollment-2017-2021-counties/about"
      ],
      "metadata": {
        "nteract": {
          "transient": {
            "deleting": false
          }
        }
      }
    },
    {
      "cell_type": "code",
      "source": [
        "url  = \"https://drive.google.com/file/d/1BM7QywHXsmYTHZYhlDtphZxDikV5CT-P/view?usp=sharing\"\n",
        "url='https://drive.google.com/uc?id=' + url.split('/')[-2]\n",
        "df1 = pd.read_csv(url)\n",
        "df1.drop('OBJECTID', axis=1, inplace=True)"
      ],
      "outputs": [],
      "execution_count": null,
      "metadata": {
        "jupyter": {
          "source_hidden": false,
          "outputs_hidden": false
        },
        "nteract": {
          "transient": {
            "deleting": false
          }
        },
        "gather": {
          "logged": 1709330856462
        }
      }
    },
    {
      "cell_type": "code",
      "source": [
        "url  = \"https://drive.google.com/file/d/16ynGEzUN8jQV1LUSO-vFkwF_4Ck_5doj/view?usp=sharing\"\n",
        "url='https://drive.google.com/uc?id=' + url.split('/')[-2]\n",
        "df2 = pd.read_csv(url)\n",
        "df2.drop('OBJECTID', axis=1, inplace=True)"
      ],
      "outputs": [],
      "execution_count": null,
      "metadata": {
        "jupyter": {
          "source_hidden": false,
          "outputs_hidden": false
        },
        "nteract": {
          "transient": {
            "deleting": false
          }
        },
        "gather": {
          "logged": 1709330857720
        }
      }
    },
    {
      "cell_type": "code",
      "source": [
        "df1 = df1[df1['STATE_NAME']==\"California\"]\n",
        "new_columns = [\n",
        "    \"STATEFP\", \"COUNTYFP\", \"COUNTYNS\", \"AFFGEOID\", \"GEOID\", \"NAME\", \"NAMELSAD\", \"STUSPS\",\n",
        "    \"STATE_NAME\", \"LSAD\", \"ALAND\", \"AWATER\", \"POP_DENSITY\", \"Average Household Size\",\n",
        "    \"Average Household Size *margin of error\", \"Households w/Pop 65+ Living Alone\",\n",
        "    \"Households w/Pop 65+ Living Alone *margin of error\", \"Households: 1-Person Household with Pop 65+ (%)\",\n",
        "    \"Households: 1-Person Household with Pop 65+ (%) *margin of error\",\n",
        "    \"Household Vehicle Availability - Without Vehicle\",\n",
        "    \"Household Vehicle Availability - Without Vehicle *margin of error\",\n",
        "    \"Household Vehicle Availability - Without Vehicle (%)\",\n",
        "    \"Household Vehicle Availability - Without Vehicle (%) *margin of error\",\n",
        "    \"Household Vehicle Availability - Without Vehicles - Owner\",\n",
        "    \"Household Vehicle Availability - Without Vehicles - Owner *margin of error\",\n",
        "    \"Household Vehicle Availability - Without Vehicles - Renter\",\n",
        "    \"Household Vehicle Availability - Without Vehicles - Renter *margin of error\",\n",
        "    \"Household Vehicle Availability - 1 Vehicle - Owner\",\n",
        "    \"Household Vehicle Availability - 1 Vehicle - Owner *margin of error\",\n",
        "    \"Household Vehicle Availability - 1 Vehicle - Renter\",\n",
        "    \"Household Vehicle Availability - 1 Vehicle - Renter *margin of error\",\n",
        "    \"Household Vehicle Availability - 1 Vehicle - Total\",\n",
        "    \"Household Vehicle Availability - 1 Vehicle - Total *margin of error\",\n",
        "    \"Household Vehicle Availability - 2 Vehicles - Owner\",\n",
        "    \"Household Vehicle Availability - 2 Vehicles - Owner *margin of error\",\n",
        "    \"Household Vehicle Availability - 2 Vehicles - Renter\",\n",
        "    \"Household Vehicle Availability - 2 Vehicles - Renter *margin of error\",\n",
        "    \"Household Vehicle Availability - 2 Vehicles - Total\",\n",
        "    \"Household Vehicle Availability - 2 Vehicles - Total *margin of error\",\n",
        "    \"Household Vehicle Availability - 3 Vehicles - Owner\",\n",
        "    \"Household Vehicle Availability - 3 Vehicles - Owner *margin of error\",\n",
        "    \"Household Vehicle Availability - 3 Vehicles -Renter\",\n",
        "    \"Household Vehicle Availability - 3 Vehicles -Renter *margin of error\",\n",
        "    \"Household Vehicle Availability - 3 Vehicles -Total\",\n",
        "    \"Household Vehicle Availability - 3 Vehicles - Total *margin of error\",\n",
        "    \"Household Vehicle Availability - 4 Vehicles - Owner\",\n",
        "    \"Household Vehicle Availability - 4 Vehicles - Owner *margin of error\",\n",
        "    \"Household Vehicle Availability - 4 Vehicles - Renter\",\n",
        "    \"Household Vehicle Availability - 4 Vehicles - Renter *margin of error\",\n",
        "    \"Household Vehicle Availability - 4 Vehicles - Total\",\n",
        "    \"Household Vehicle Availability - 4 Vehicles - Total *margin of error\",\n",
        "    \"Household Vehicle Availability - 5 or More Vehicles - Owner\",\n",
        "    \"Household Vehicle Availability - 5 or More Vehicles - Owner *margin of error\",\n",
        "    \"Household Vehicle Availability - 5 or More Vehicles - Renter\",\n",
        "    \"Household Vehicle Availability - 5 or More Vehicles - Renter *margin of error\",\n",
        "    \"Household Vehicle Availability - 5 or More Vehicles - Total\",\n",
        "    \"Household Vehicle Availability - 5 or More Vehicles - Total *margin of error\",\n",
        "    \"All Households\", \"All Households *margin of error\",\n",
        "    \"Total Male Householder, no spouse present, with own children of the householder under 18 years\",\n",
        "    \"Total Male Householder, no spouse present, with own children of the householder under 18 years *margin of error\",\n",
        "    \"Total Female Householder, no spouse present, with own children of the householder under 18 years\",\n",
        "    \"Total Female Householder, no spouse present, with own children of the householder under 18 years *margin of error\",\n",
        "    \"Total Cohabitating Couple Households\", \"Total Cohabitating Couple Households *margin of error\",\n",
        "    \"Total Households with one or more people 65 years and over\",\n",
        "    \"Total Households with one or more people 65 years and over *margin of error\",\n",
        "    \"Percentage of Households - Male Householder, no spouse present, with own children of the householder under 18 years *margin of error\",\n",
        "    \"Percentage of Households - Female Householder, no spouse present, with own children of the householder under 18 years *margin of error\",\n",
        "    \"Percentage of Households - Male Householder, no spouse present, with own children of the householder under 18 years\",\n",
        "    \"Percentage of Households - Female Householder, no spouse present, with own children of the householder under 18 years\",\n",
        "    \"Shape__Area\", \"Shape__Length\"\n",
        "]\n",
        "df1.columns = new_columns\n",
        "t = [x for x in list(range(0,4))+list(range(5,13))+list(range(19,57))+list(range(71,73))]\n",
        "df1.drop(df1.columns[t], axis=1, inplace = True)"
      ],
      "outputs": [],
      "execution_count": null,
      "metadata": {
        "jupyter": {
          "source_hidden": false,
          "outputs_hidden": false
        },
        "nteract": {
          "transient": {
            "deleting": false
          }
        },
        "gather": {
          "logged": 1709330857835
        }
      }
    },
    {
      "cell_type": "code",
      "source": [
        "df2 = df2[df2['STATE_NAME']==\"California\"]\n",
        "new_columns = [\"STATEFP\", \"COUNTYFP\", \"COUNTYNS\", \"AFFGEOID\", \"GEOID\", \"NAME\", \"NAMELSAD\", \n",
        "           \"STUSPS\", \"STATE_NAME\", \"LSAD\", \"ALAND\", \"AWATER\", \"POP_DENSITY\", \n",
        "           \"Population Enrollment in - Nursery, Preschool\", \n",
        "           \"Population Enrollment in - Nursery, Preschool *margin of error\", \n",
        "           \"Population Enrollment in - Kindergarten\", \n",
        "           \"Population Enrollment in - Kindergarten *margin of error\", \n",
        "           \"Population Enrollment in - Grade 1-4\", \n",
        "           \"Population Enrollment in - Grade 1-4 *margin of error\", \n",
        "           \"Population Enrollment in - Grade 5-8\", \n",
        "           \"Population Enrollment in - Grade 5-8 *margin of error\", \n",
        "           \"Population Enrollment in - Grade 9-12\", \n",
        "           \"Population Enrollment in - Grade 9-12 *margin of error\", \n",
        "           \"Population Enrollment in - College\", \n",
        "           \"Population Enrollment in - College *margin of error\", \n",
        "           \"Population Enrollment in - Grad/Prof\", \n",
        "           \"Population Enrollment in - Grad/Prof *margin of error\", \n",
        "           \"Population Enrollment in - Elementary school (grades 1-8)\", \n",
        "           \"Population Enrollment in - Elementary school (grades 1-8) *margin of error\", \n",
        "           \"Population Enrollment in - High school (grades 9-12)\", \n",
        "           \"Population Enrollment in - High school (grades 9-12) *margin of error\", \n",
        "           \"Population Enrollment in - College or graduate school\", \n",
        "           \"Population Enrollment in - College or graduate school *margin of error\", \n",
        "           \"Shape__Area\", \"Shape__Length\"]\n",
        "df2.columns = new_columns\n",
        "t = [x for x in list(range(0,4))+list(range(5,13))+list(range(33,35))]\n",
        "df2.drop(df2.columns[t], axis=1, inplace=True)"
      ],
      "outputs": [],
      "execution_count": null,
      "metadata": {
        "jupyter": {
          "source_hidden": false,
          "outputs_hidden": false
        },
        "nteract": {
          "transient": {
            "deleting": false
          }
        },
        "gather": {
          "logged": 1709330858258
        }
      }
    },
    {
      "cell_type": "code",
      "source": [
        "df3 = pd.merge(df1,df2, how=\"outer\", on=[\"GEOID\"])\n",
        "df3.head()"
      ],
      "outputs": [
        {
          "output_type": "execute_result",
          "execution_count": 103,
          "data": {
            "text/plain": "   GEOID  Average Household Size  Average Household Size *margin of error  \\\n0   6001                    2.82                                     0.01   \n1   6003                    3.01                                     0.64   \n2   6005                    2.38                                     0.06   \n3   6007                    2.48                                     0.02   \n4   6009                    2.67                                     0.08   \n\n   Households w/Pop 65+ Living Alone  \\\n0                            53018.0   \n1                               60.0   \n2                             2507.0   \n3                            10157.0   \n4                             2207.0   \n\n   Households w/Pop 65+ Living Alone *margin of error  \\\n0                                             1594.0    \n1                                               39.0    \n2                                              298.0    \n3                                              703.0    \n4                                              413.0    \n\n   Households: 1-Person Household with Pop 65+ (%)  \\\n0                                              9.1   \n1                                             13.8   \n2                                             16.3   \n3                                             11.9   \n4                                             13.1   \n\n   Households: 1-Person Household with Pop 65+ (%) *margin of error  \\\n0                                                0.3                  \n1                                                8.5                  \n2                                                1.9                  \n3                                                0.8                  \n4                                                2.4                  \n\n   All Households  All Households *margin of error  \\\n0        581683.0                           1880.0   \n1           434.0                             91.0   \n2         15394.0                            447.0   \n3         85292.0                            767.0   \n4         16809.0                            529.0   \n\n   Total Male Householder, no spouse present, with own children of the householder under 18 years  \\\n0                                             6577.0                                                \n1                                                1.0                                                \n2                                               69.0                                                \n3                                              915.0                                                \n4                                              262.0                                                \n\n   ...  Population Enrollment in - College  \\\n0  ...                            102971.0   \n1  ...                                60.0   \n2  ...                              1980.0   \n3  ...                             22723.0   \n4  ...                              1796.0   \n\n   Population Enrollment in - College *margin of error  \\\n0                                             2561.0     \n1                                               55.0     \n2                                              353.0     \n3                                              962.0     \n4                                              316.0     \n\n   Population Enrollment in - Grad/Prof  \\\n0                               32853.0   \n1                                  25.0   \n2                                 182.0   \n3                                2665.0   \n4                                 100.0   \n\n   Population Enrollment in - Grad/Prof *margin of error  \\\n0                                             1668.0       \n1                                               23.0       \n2                                              112.0       \n3                                              404.0       \n4                                               77.0       \n\n   Population Enrollment in - Elementary school (grades 1-8)  \\\n0                                           149177.0           \n1                                              108.0           \n2                                             2496.0           \n3                                            19194.0           \n4                                             3424.0           \n\n   Population Enrollment in - Elementary school (grades 1-8) *margin of error  \\\n0                                             1232.0                            \n1                                               36.0                            \n2                                              239.0                            \n3                                              511.0                            \n4                                              264.0                            \n\n   Population Enrollment in - High school (grades 9-12)  \\\n0                                            76948.0      \n1                                               57.0      \n2                                             2252.0      \n3                                            10793.0      \n4                                             1812.0      \n\n   Population Enrollment in - High school (grades 9-12) *margin of error  \\\n0                                             1144.0                       \n1                                               33.0                       \n2                                              281.0                       \n3                                              448.0                       \n4                                              234.0                       \n\n   Population Enrollment in - College or graduate school  \\\n0                                           135824.0       \n1                                               85.0       \n2                                             2162.0       \n3                                            25388.0       \n4                                             1896.0       \n\n   Population Enrollment in - College or graduate school *margin of error  \n0                                             3093.0                       \n1                                               63.0                       \n2                                              365.0                       \n3                                             1007.0                       \n4                                              339.0                       \n\n[5 rows x 41 columns]",
            "text/html": "<div>\n<style scoped>\n    .dataframe tbody tr th:only-of-type {\n        vertical-align: middle;\n    }\n\n    .dataframe tbody tr th {\n        vertical-align: top;\n    }\n\n    .dataframe thead th {\n        text-align: right;\n    }\n</style>\n<table border=\"1\" class=\"dataframe\">\n  <thead>\n    <tr style=\"text-align: right;\">\n      <th></th>\n      <th>GEOID</th>\n      <th>Average Household Size</th>\n      <th>Average Household Size *margin of error</th>\n      <th>Households w/Pop 65+ Living Alone</th>\n      <th>Households w/Pop 65+ Living Alone *margin of error</th>\n      <th>Households: 1-Person Household with Pop 65+ (%)</th>\n      <th>Households: 1-Person Household with Pop 65+ (%) *margin of error</th>\n      <th>All Households</th>\n      <th>All Households *margin of error</th>\n      <th>Total Male Householder, no spouse present, with own children of the householder under 18 years</th>\n      <th>...</th>\n      <th>Population Enrollment in - College</th>\n      <th>Population Enrollment in - College *margin of error</th>\n      <th>Population Enrollment in - Grad/Prof</th>\n      <th>Population Enrollment in - Grad/Prof *margin of error</th>\n      <th>Population Enrollment in - Elementary school (grades 1-8)</th>\n      <th>Population Enrollment in - Elementary school (grades 1-8) *margin of error</th>\n      <th>Population Enrollment in - High school (grades 9-12)</th>\n      <th>Population Enrollment in - High school (grades 9-12) *margin of error</th>\n      <th>Population Enrollment in - College or graduate school</th>\n      <th>Population Enrollment in - College or graduate school *margin of error</th>\n    </tr>\n  </thead>\n  <tbody>\n    <tr>\n      <th>0</th>\n      <td>6001</td>\n      <td>2.82</td>\n      <td>0.01</td>\n      <td>53018.0</td>\n      <td>1594.0</td>\n      <td>9.1</td>\n      <td>0.3</td>\n      <td>581683.0</td>\n      <td>1880.0</td>\n      <td>6577.0</td>\n      <td>...</td>\n      <td>102971.0</td>\n      <td>2561.0</td>\n      <td>32853.0</td>\n      <td>1668.0</td>\n      <td>149177.0</td>\n      <td>1232.0</td>\n      <td>76948.0</td>\n      <td>1144.0</td>\n      <td>135824.0</td>\n      <td>3093.0</td>\n    </tr>\n    <tr>\n      <th>1</th>\n      <td>6003</td>\n      <td>3.01</td>\n      <td>0.64</td>\n      <td>60.0</td>\n      <td>39.0</td>\n      <td>13.8</td>\n      <td>8.5</td>\n      <td>434.0</td>\n      <td>91.0</td>\n      <td>1.0</td>\n      <td>...</td>\n      <td>60.0</td>\n      <td>55.0</td>\n      <td>25.0</td>\n      <td>23.0</td>\n      <td>108.0</td>\n      <td>36.0</td>\n      <td>57.0</td>\n      <td>33.0</td>\n      <td>85.0</td>\n      <td>63.0</td>\n    </tr>\n    <tr>\n      <th>2</th>\n      <td>6005</td>\n      <td>2.38</td>\n      <td>0.06</td>\n      <td>2507.0</td>\n      <td>298.0</td>\n      <td>16.3</td>\n      <td>1.9</td>\n      <td>15394.0</td>\n      <td>447.0</td>\n      <td>69.0</td>\n      <td>...</td>\n      <td>1980.0</td>\n      <td>353.0</td>\n      <td>182.0</td>\n      <td>112.0</td>\n      <td>2496.0</td>\n      <td>239.0</td>\n      <td>2252.0</td>\n      <td>281.0</td>\n      <td>2162.0</td>\n      <td>365.0</td>\n    </tr>\n    <tr>\n      <th>3</th>\n      <td>6007</td>\n      <td>2.48</td>\n      <td>0.02</td>\n      <td>10157.0</td>\n      <td>703.0</td>\n      <td>11.9</td>\n      <td>0.8</td>\n      <td>85292.0</td>\n      <td>767.0</td>\n      <td>915.0</td>\n      <td>...</td>\n      <td>22723.0</td>\n      <td>962.0</td>\n      <td>2665.0</td>\n      <td>404.0</td>\n      <td>19194.0</td>\n      <td>511.0</td>\n      <td>10793.0</td>\n      <td>448.0</td>\n      <td>25388.0</td>\n      <td>1007.0</td>\n    </tr>\n    <tr>\n      <th>4</th>\n      <td>6009</td>\n      <td>2.67</td>\n      <td>0.08</td>\n      <td>2207.0</td>\n      <td>413.0</td>\n      <td>13.1</td>\n      <td>2.4</td>\n      <td>16809.0</td>\n      <td>529.0</td>\n      <td>262.0</td>\n      <td>...</td>\n      <td>1796.0</td>\n      <td>316.0</td>\n      <td>100.0</td>\n      <td>77.0</td>\n      <td>3424.0</td>\n      <td>264.0</td>\n      <td>1812.0</td>\n      <td>234.0</td>\n      <td>1896.0</td>\n      <td>339.0</td>\n    </tr>\n  </tbody>\n</table>\n<p>5 rows × 41 columns</p>\n</div>"
          },
          "metadata": {}
        }
      ],
      "execution_count": 103,
      "metadata": {
        "jupyter": {
          "source_hidden": false,
          "outputs_hidden": false
        },
        "nteract": {
          "transient": {
            "deleting": false
          }
        },
        "gather": {
          "logged": 1709330858461
        }
      }
    },
    {
      "cell_type": "code",
      "source": [
        "df3.iloc[0,:]"
      ],
      "outputs": [
        {
          "output_type": "execute_result",
          "execution_count": 104,
          "data": {
            "text/plain": "GEOID                                                                                                                                       6001.00\nAverage Household Size                                                                                                                         2.82\nAverage Household Size *margin of error                                                                                                        0.01\nHouseholds w/Pop 65+ Living Alone                                                                                                          53018.00\nHouseholds w/Pop 65+ Living Alone *margin of error                                                                                          1594.00\nHouseholds: 1-Person Household with Pop 65+ (%)                                                                                                9.10\nHouseholds: 1-Person Household with Pop 65+ (%) *margin of error                                                                               0.30\nAll Households                                                                                                                            581683.00\nAll Households *margin of error                                                                                                             1880.00\nTotal Male Householder, no spouse present, with own children of the householder under 18 years                                              6577.00\nTotal Male Householder, no spouse present, with own children of the householder under 18 years *margin of error                              642.00\nTotal Female Householder, no spouse present, with own children of the householder under 18 years                                           22103.00\nTotal Female Householder, no spouse present, with own children of the householder under 18 years *margin of error                           1120.00\nTotal Cohabitating Couple Households                                                                                                       38908.00\nTotal Cohabitating Couple Households *margin of error                                                                                       1339.00\nTotal Households with one or more people 65 years and over                                                                                162576.00\nTotal Households with one or more people 65 years and over *margin of error                                                                 1365.00\nPercentage of Households - Male Householder, no spouse present, with own children of the householder under 18 years *margin of error           0.10\nPercentage of Households - Female Householder, no spouse present, with own children of the householder under 18 years *margin of error         0.20\nPercentage of Households - Male Householder, no spouse present, with own children of the householder under 18 years                            1.10\nPercentage of Households - Female Householder, no spouse present, with own children of the householder under 18 years                          3.80\nPopulation Enrollment in - Nursery, Preschool                                                                                              28362.00\nPopulation Enrollment in - Nursery, Preschool *margin of error                                                                              1405.00\nPopulation Enrollment in - Kindergarten                                                                                                    20533.00\nPopulation Enrollment in - Kindergarten *margin of error                                                                                    1142.00\nPopulation Enrollment in - Grade 1-4                                                                                                       74085.00\nPopulation Enrollment in - Grade 1-4 *margin of error                                                                                       1560.00\nPopulation Enrollment in - Grade 5-8                                                                                                       75092.00\nPopulation Enrollment in - Grade 5-8 *margin of error                                                                                       1633.00\nPopulation Enrollment in - Grade 9-12                                                                                                      76948.00\nPopulation Enrollment in - Grade 9-12 *margin of error                                                                                      1144.00\nPopulation Enrollment in - College                                                                                                        102971.00\nPopulation Enrollment in - College *margin of error                                                                                         2561.00\nPopulation Enrollment in - Grad/Prof                                                                                                       32853.00\nPopulation Enrollment in - Grad/Prof *margin of error                                                                                       1668.00\nPopulation Enrollment in - Elementary school (grades 1-8)                                                                                 149177.00\nPopulation Enrollment in - Elementary school (grades 1-8) *margin of error                                                                  1232.00\nPopulation Enrollment in - High school (grades 9-12)                                                                                       76948.00\nPopulation Enrollment in - High school (grades 9-12) *margin of error                                                                       1144.00\nPopulation Enrollment in - College or graduate school                                                                                     135824.00\nPopulation Enrollment in - College or graduate school *margin of error                                                                      3093.00\nName: 0, dtype: float64"
          },
          "metadata": {}
        }
      ],
      "execution_count": 104,
      "metadata": {
        "jupyter": {
          "source_hidden": false,
          "outputs_hidden": false
        },
        "nteract": {
          "transient": {
            "deleting": false
          }
        },
        "gather": {
          "logged": 1709330858594
        }
      }
    },
    {
      "cell_type": "markdown",
      "source": [
        "###### We can consider columns like Average Household Size, Average Household Size, Total Cohabitating Couple Households, with children information like Average Household Size to Population Enrollment in - Grade 9-12 and even single parent houses like Total Female Householder, no spouse present, with own children of the householder under 18 years and old age population like Total Households with one or more people 65 years and over"
      ],
      "metadata": {
        "nteract": {
          "transient": {
            "deleting": false
          }
        }
      }
    },
    {
      "cell_type": "markdown",
      "source": [
        "Our new hypothesis which we can test can be:\n",
        "- Can increase in single parent household lead to increase in diabetes.\n",
        "- Can increase in Household size can lead to decrease in Smoking\n",
        "- Can increase in Couple Households lead to more Hospital utilization rate."
      ],
      "metadata": {
        "nteract": {
          "transient": {
            "deleting": false
          }
        }
      }
    },
    {
      "cell_type": "code",
      "source": [
        "df3.to_csv('Datasets/New_data.csv', index = False)"
      ],
      "outputs": [],
      "execution_count": 105,
      "metadata": {
        "jupyter": {
          "source_hidden": false,
          "outputs_hidden": false
        },
        "nteract": {
          "transient": {
            "deleting": false
          }
        },
        "gather": {
          "logged": 1709330858736
        }
      }
    }
  ],
  "metadata": {
    "kernelspec": {
      "name": "python38-azureml",
      "language": "python",
      "display_name": "Python 3.8 - AzureML"
    },
    "language_info": {
      "name": "python",
      "version": "3.8.5",
      "mimetype": "text/x-python",
      "codemirror_mode": {
        "name": "ipython",
        "version": 3
      },
      "pygments_lexer": "ipython3",
      "nbconvert_exporter": "python",
      "file_extension": ".py"
    },
    "microsoft": {
      "ms_spell_check": {
        "ms_spell_check_language": "en"
      },
      "host": {
        "AzureML": {
          "notebookHasBeenCompleted": true
        }
      }
    },
    "nteract": {
      "version": "nteract-front-end@1.0.0"
    },
    "kernel_info": {
      "name": "python38-azureml"
    }
  },
  "nbformat": 4,
  "nbformat_minor": 2
}